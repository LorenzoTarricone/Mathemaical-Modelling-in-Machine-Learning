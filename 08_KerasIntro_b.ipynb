{
  "cells": [
    {
      "cell_type": "markdown",
      "metadata": {
        "id": "view-in-github",
        "colab_type": "text"
      },
      "source": [
        "<a href=\"https://colab.research.google.com/github/LorenzoTarricone/Mathemaical-Modelling-in-Machine-Learning/blob/main/08_KerasIntro_b.ipynb\" target=\"_parent\"><img src=\"https://colab.research.google.com/assets/colab-badge.svg\" alt=\"Open In Colab\"/></a>"
      ]
    },
    {
      "cell_type": "markdown",
      "metadata": {
        "id": "ZNrl3yTOFKbM"
      },
      "source": [
        "**Chapter 10 – Introduction to Artificial Neural Networks with Keras**\n",
        "\n",
        "_This notebook contains all the sample code and solutions to the exercises in chapter 10._"
      ]
    },
    {
      "cell_type": "markdown",
      "metadata": {
        "id": "mUw6sETCFKbX"
      },
      "source": [
        "<table align=\"left\">\n",
        "  <td>\n",
        "    <a href=\"https://colab.research.google.com/github/ageron/handson-ml2/blob/master/10_neural_nets_with_keras.ipynb\" target=\"_parent\"><img src=\"https://colab.research.google.com/assets/colab-badge.svg\" alt=\"Open In Colab\"/></a>\n",
        "  </td>\n",
        "  <td>\n",
        "    <a target=\"_blank\" href=\"https://kaggle.com/kernels/welcome?src=https://github.com/ageron/handson-ml2/blob/master/10_neural_nets_with_keras.ipynb\"><img src=\"https://kaggle.com/static/images/open-in-kaggle.svg\" /></a>\n",
        "  </td>\n",
        "</table>"
      ]
    },
    {
      "cell_type": "markdown",
      "metadata": {
        "id": "9XsM6VhaFKbZ"
      },
      "source": [
        "Keras is a high-level Deep Learning API that allows you to easily build, train, evaluate\n",
        "and execute all sorts of neural networks. Its documentation (or specification) is available at https://keras.io. \n",
        "\n",
        "The reference implementation is simply called Keras as well, so to avoid any confusion we will call it keras-team (since it is available at https://\n",
        "github.com/keras-team/keras). It was developed by François Chollet as part of a research project and released as an open source project in March 2015. It quickly gained popularity owing to its ease-of-use, flexibility and beautiful design. To perform the heavy computations required by neural networks, keras-team relies on a\n",
        "computation backend. At the present, you can choose from three popular open source deep learning libraries: TensorFlow, Microsoft Cognitive Toolkit (CNTK) or Theano.\n",
        "\n",
        "TensorFlow itself now comes bundled with its own Keras\n",
        "implementation called tf.keras. It only supports TensorFlow as the backend, but it has\n",
        "the advantage of offering some very useful extra features: for\n",
        "example, it supports TensorFlow’s Data API which makes it quite easy to load and\n",
        "preprocess data efficiently. For this reason, we will use tf.keras in this book. However,\n",
        "in this chapter we will not use any of the TensorFlow-specific features, so the code\n",
        "should run fine on other Keras implementations as well (at least in Python), with only\n",
        "minor modifications, such as changing the imports"
      ]
    },
    {
      "cell_type": "markdown",
      "metadata": {
        "id": "VUzMhdi3FKba"
      },
      "source": [
        "# Setup"
      ]
    },
    {
      "cell_type": "markdown",
      "metadata": {
        "id": "y1GN80F3FKba"
      },
      "source": [
        "First, let's import a few common modules, ensure MatplotLib plots figures inline and prepare a function to save the figures. We also check that Python 3.5 or later is installed (although Python 2.x may work, it is deprecated so we strongly recommend you use Python 3 instead), as well as Scikit-Learn ≥0.20 and TensorFlow ≥2.0."
      ]
    },
    {
      "cell_type": "code",
      "execution_count": null,
      "metadata": {
        "id": "Tp44oXHgFKbb"
      },
      "outputs": [],
      "source": [
        "# Python ≥3.5 is required\n",
        "import sys\n",
        "assert sys.version_info >= (3, 5)\n",
        "\n",
        "# Scikit-Learn ≥0.20 is required\n",
        "import sklearn\n",
        "assert sklearn.__version__ >= \"0.20\"\n",
        "\n",
        "try:\n",
        "    # %tensorflow_version only exists in Colab.\n",
        "    %tensorflow_version 2.x\n",
        "except Exception:\n",
        "    pass\n",
        "\n",
        "# TensorFlow ≥2.0 is required\n",
        "import tensorflow as tf\n",
        "assert tf.__version__ >= \"2.0\"\n",
        "\n",
        "# Common imports\n",
        "import numpy as np\n",
        "import os\n",
        "\n",
        "# to make this notebook's output stable across runs\n",
        "np.random.seed(42)\n",
        "\n",
        "# To plot pretty figures\n",
        "%matplotlib inline\n",
        "import matplotlib as mpl\n",
        "import matplotlib.pyplot as plt\n",
        "mpl.rc('axes', labelsize=14)\n",
        "mpl.rc('xtick', labelsize=12)\n",
        "mpl.rc('ytick', labelsize=12)\n",
        "\n",
        "# Where to save the figures\n",
        "PROJECT_ROOT_DIR = \".\"\n",
        "CHAPTER_ID = \"ann\"\n",
        "IMAGES_PATH = os.path.join(PROJECT_ROOT_DIR, \"images\", CHAPTER_ID)\n",
        "os.makedirs(IMAGES_PATH, exist_ok=True)\n",
        "\n",
        "def save_fig(fig_id, tight_layout=True, fig_extension=\"png\", resolution=300):\n",
        "    path = os.path.join(IMAGES_PATH, fig_id + \".\" + fig_extension)\n",
        "    print(\"Saving figure\", fig_id)\n",
        "    if tight_layout:\n",
        "        plt.tight_layout()\n",
        "    plt.savefig(path, format=fig_extension, dpi=resolution)\n"
      ]
    },
    {
      "cell_type": "markdown",
      "metadata": {
        "id": "8N3y7RyKFKbd"
      },
      "source": [
        "# Building an Image Classifier"
      ]
    },
    {
      "cell_type": "markdown",
      "metadata": {
        "id": "gu-DtaKnFKbe"
      },
      "source": [
        "First let's import TensorFlow and Keras."
      ]
    },
    {
      "cell_type": "code",
      "execution_count": null,
      "metadata": {
        "id": "aQSa8X11FKbf"
      },
      "outputs": [],
      "source": [
        "import tensorflow as tf\n",
        "from tensorflow import keras\n",
        "from keras.layers import Dense, Input, Flatten"
      ]
    },
    {
      "cell_type": "code",
      "execution_count": null,
      "metadata": {
        "colab": {
          "base_uri": "https://localhost:8080/",
          "height": 35
        },
        "id": "gBhVuTBcFKbg",
        "outputId": "70dbf437-e8fe-48a8-c15e-0d087af72be4"
      },
      "outputs": [
        {
          "data": {
            "application/vnd.google.colaboratory.intrinsic+json": {
              "type": "string"
            },
            "text/plain": [
              "'2.8.0'"
            ]
          },
          "execution_count": 73,
          "metadata": {},
          "output_type": "execute_result"
        }
      ],
      "source": [
        "tf.__version__"
      ]
    },
    {
      "cell_type": "code",
      "execution_count": null,
      "metadata": {
        "colab": {
          "base_uri": "https://localhost:8080/",
          "height": 35
        },
        "id": "zPWatobgFKbi",
        "outputId": "c1345556-a2f5-4394-a28a-651b1887e9ac"
      },
      "outputs": [
        {
          "data": {
            "application/vnd.google.colaboratory.intrinsic+json": {
              "type": "string"
            },
            "text/plain": [
              "'2.8.0'"
            ]
          },
          "execution_count": 74,
          "metadata": {},
          "output_type": "execute_result"
        }
      ],
      "source": [
        "keras.__version__"
      ]
    },
    {
      "cell_type": "markdown",
      "metadata": {
        "id": "qfc8NJL4FKbm"
      },
      "source": [
        "## Fetch Data"
      ]
    },
    {
      "cell_type": "markdown",
      "metadata": {
        "id": "-EQeP8OSFKbn"
      },
      "source": [
        "Let's start by loading the fashion MNIST dataset. Keras has a number of functions to load popular datasets in `keras.datasets`. The dataset is already split for you between a training set and a test set, but it can be useful to split the training set further to have a validation set:"
      ]
    },
    {
      "cell_type": "code",
      "execution_count": null,
      "metadata": {
        "id": "lCDmEOl1FKbo"
      },
      "outputs": [],
      "source": [
        "fashion_mnist = keras.datasets.fashion_mnist\n",
        "(X_train_full, y_train_full), (X_test, y_test) = fashion_mnist.load_data()"
      ]
    },
    {
      "cell_type": "markdown",
      "metadata": {
        "id": "4aUMuDA5FKbo"
      },
      "source": [
        "The training set contains 60,000 grayscale images, each 28x28 pixels:"
      ]
    },
    {
      "cell_type": "code",
      "execution_count": null,
      "metadata": {
        "colab": {
          "base_uri": "https://localhost:8080/"
        },
        "id": "enbfbgA_FKbo",
        "outputId": "0fc41d15-6b3f-4b97-b648-ca1c88334b5c"
      },
      "outputs": [
        {
          "data": {
            "text/plain": [
              "(60000, 28, 28)"
            ]
          },
          "execution_count": 77,
          "metadata": {},
          "output_type": "execute_result"
        }
      ],
      "source": [
        "X_train_full.shape"
      ]
    },
    {
      "cell_type": "markdown",
      "metadata": {
        "id": "gRzQ36HWFKbp"
      },
      "source": [
        "Each pixel intensity is represented as a byte (0 to 255):"
      ]
    },
    {
      "cell_type": "code",
      "execution_count": null,
      "metadata": {
        "colab": {
          "base_uri": "https://localhost:8080/"
        },
        "id": "IYHHrqnCFKbp",
        "outputId": "da51dad3-8673-41c8-aa90-b4be3114fe15"
      },
      "outputs": [
        {
          "data": {
            "text/plain": [
              "dtype('uint8')"
            ]
          },
          "execution_count": 78,
          "metadata": {},
          "output_type": "execute_result"
        }
      ],
      "source": [
        "X_train_full.dtype"
      ]
    },
    {
      "cell_type": "code",
      "execution_count": null,
      "metadata": {
        "colab": {
          "base_uri": "https://localhost:8080/"
        },
        "id": "zAP_fKg5FKbq",
        "outputId": "61a4b1fd-c1c9-47bd-f9e4-e246149ed929"
      },
      "outputs": [
        {
          "data": {
            "text/plain": [
              "255"
            ]
          },
          "execution_count": 79,
          "metadata": {},
          "output_type": "execute_result"
        }
      ],
      "source": [
        "X_train_full.max()"
      ]
    },
    {
      "cell_type": "markdown",
      "metadata": {
        "id": "wrfp2iZMFKbs"
      },
      "source": [
        "Let's split the full training set into a validation set and a (smaller) training set. We also scale the pixel intensities down to the 0-1 range and convert them to floats, by dividing by 255."
      ]
    },
    {
      "cell_type": "code",
      "execution_count": null,
      "metadata": {
        "colab": {
          "background_save": true
        },
        "id": "fzCxTmMaFKbt"
      },
      "outputs": [],
      "source": [
        "X_valid, X_train = X_train_full[:5000] / 255., X_train_full[5000:] / 255.\n",
        "y_valid, y_train = y_train_full[:5000], y_train_full[5000:]\n",
        "X_test = X_test / 255."
      ]
    },
    {
      "cell_type": "markdown",
      "metadata": {
        "id": "2giDIRdjFKbt"
      },
      "source": [
        "You can plot an image using Matplotlib's `imshow()` function, with a `'binary'`\n",
        " color map:"
      ]
    },
    {
      "cell_type": "code",
      "execution_count": null,
      "metadata": {
        "colab": {
          "base_uri": "https://localhost:8080/",
          "height": 248
        },
        "id": "wDtz9DwrFKbt",
        "outputId": "25ad2c76-f432-4662-a92b-21232d8fc503"
      },
      "outputs": [
        {
          "data": {
            "image/png": "[encoded data removed]",
            "text/plain": [
              "<Figure size 432x288 with 1 Axes>"
            ]
          },
          "metadata": {},
          "output_type": "display_data"
        }
      ],
      "source": [
        "plt.imshow(X_train[0], cmap=\"binary\")\n",
        "plt.axis('off')\n",
        "plt.show()"
      ]
    },
    {
      "cell_type": "markdown",
      "metadata": {
        "id": "nXaRHbMNFKbu"
      },
      "source": [
        "The labels are the class IDs (represented as uint8), from 0 to 9:"
      ]
    },
    {
      "cell_type": "code",
      "execution_count": null,
      "metadata": {
        "colab": {
          "base_uri": "https://localhost:8080/"
        },
        "id": "bpfQngpZFKbu",
        "outputId": "92eca3f2-960e-4471-8ba3-bf92b9bf3f22"
      },
      "outputs": [
        {
          "data": {
            "text/plain": [
              "array([4, 0, 7, ..., 3, 0, 5], dtype=uint8)"
            ]
          },
          "execution_count": 82,
          "metadata": {},
          "output_type": "execute_result"
        }
      ],
      "source": [
        "y_train"
      ]
    },
    {
      "cell_type": "markdown",
      "metadata": {
        "id": "nkRNWthFFKbv"
      },
      "source": [
        "Here are the corresponding class names:"
      ]
    },
    {
      "cell_type": "code",
      "execution_count": null,
      "metadata": {
        "id": "sZdLuqKiFKbv"
      },
      "outputs": [],
      "source": [
        "class_names = [\"T-shirt/top\", \"Trouser\", \"Pullover\", \"Dress\", \"Coat\",\n",
        "               \"Sandal\", \"Shirt\", \"Sneaker\", \"Bag\", \"Ankle boot\"]"
      ]
    },
    {
      "cell_type": "markdown",
      "metadata": {
        "id": "l306rNNVFKbv"
      },
      "source": [
        "So the first image in the training set is a coat:"
      ]
    },
    {
      "cell_type": "code",
      "execution_count": null,
      "metadata": {
        "colab": {
          "base_uri": "https://localhost:8080/",
          "height": 35
        },
        "id": "4bqcYT7NFKbv",
        "outputId": "92cc726c-0d80-4df4-9bb6-3c61e45232bc"
      },
      "outputs": [
        {
          "data": {
            "application/vnd.google.colaboratory.intrinsic+json": {
              "type": "string"
            },
            "text/plain": [
              "'Coat'"
            ]
          },
          "execution_count": 84,
          "metadata": {},
          "output_type": "execute_result"
        }
      ],
      "source": [
        "class_names[y_train[0]]"
      ]
    },
    {
      "cell_type": "markdown",
      "metadata": {
        "id": "TdDsGGvuFKbw"
      },
      "source": [
        "The validation set contains 5,000 images, and the test set contains 10,000 images:"
      ]
    },
    {
      "cell_type": "code",
      "execution_count": null,
      "metadata": {
        "colab": {
          "base_uri": "https://localhost:8080/"
        },
        "id": "ujjHpilEFKbw",
        "outputId": "5b03baa3-d45f-4b63-9cda-652d294677c8"
      },
      "outputs": [
        {
          "data": {
            "text/plain": [
              "(5000, 28, 28)"
            ]
          },
          "execution_count": 85,
          "metadata": {},
          "output_type": "execute_result"
        }
      ],
      "source": [
        "X_valid.shape"
      ]
    },
    {
      "cell_type": "code",
      "execution_count": null,
      "metadata": {
        "colab": {
          "base_uri": "https://localhost:8080/"
        },
        "id": "C71EhwpwFKby",
        "outputId": "cc43176f-17d9-44d8-bdd9-bf61e6a3f79c"
      },
      "outputs": [
        {
          "data": {
            "text/plain": [
              "(10000, 28, 28)"
            ]
          },
          "execution_count": 86,
          "metadata": {},
          "output_type": "execute_result"
        }
      ],
      "source": [
        "X_test.shape"
      ]
    },
    {
      "cell_type": "markdown",
      "metadata": {
        "id": "x0pISG_VFKbz"
      },
      "source": [
        "Let's take a look at a sample of the images in the dataset:"
      ]
    },
    {
      "cell_type": "code",
      "execution_count": null,
      "metadata": {
        "colab": {
          "base_uri": "https://localhost:8080/",
          "height": 325
        },
        "id": "7vqGkZvRFKbz",
        "outputId": "e62c9559-05c2-40b6-96df-1da06281438c"
      },
      "outputs": [
        {
          "name": "stdout",
          "output_type": "stream",
          "text": [
            "Saving figure fashion_mnist_plot\n"
          ]
        },
        {
          "data": {
            "image/png": "[encoded data removed]",
            "text/plain": [
              "<Figure size 864x345.6 with 40 Axes>"
            ]
          },
          "metadata": {},
          "output_type": "display_data"
        }
      ],
      "source": [
        "n_rows = 4\n",
        "n_cols = 10\n",
        "plt.figure(figsize=(n_cols * 1.2, n_rows * 1.2))\n",
        "for row in range(n_rows):\n",
        "    for col in range(n_cols):\n",
        "        index = n_cols * row + col\n",
        "        plt.subplot(n_rows, n_cols, index + 1)\n",
        "        plt.imshow(X_train[index], cmap=\"binary\", interpolation=\"nearest\")\n",
        "        plt.axis('off')\n",
        "        plt.title(class_names[y_train[index]], fontsize=12)\n",
        "plt.subplots_adjust(wspace=0.2, hspace=0.5)\n",
        "save_fig('fashion_mnist_plot', tight_layout=False)\n",
        "plt.show()"
      ]
    },
    {
      "cell_type": "markdown",
      "metadata": {
        "id": "N-TA1Xn7FKb0"
      },
      "source": [
        "## Build Model"
      ]
    },
    {
      "cell_type": "code",
      "execution_count": null,
      "metadata": {
        "id": "pHS9hNjTFKb0"
      },
      "outputs": [],
      "source": [
        "model = keras.models.Sequential()\n",
        "model.add(keras.layers.Flatten(input_shape=[28, 28])) # input_shape doesn't include batch dimension (not aware of how many images i have), flatten layer is the input layer, we just take the 28x28 matrix and we turn into a vector of lenght 784\n",
        "model.add(keras.layers.Dense(300, activation=\"relu\"))\n",
        "model.add(keras.layers.Dense(100, activation=\"relu\"))\n",
        "model.add(keras.layers.Dense(10))"
      ]
    },
    {
      "cell_type": "code",
      "execution_count": null,
      "metadata": {
        "id": "G_kkGsuzLaiI"
      },
      "outputs": [],
      "source": [
        "keras.layers.Dense?"
      ]
    },
    {
      "cell_type": "code",
      "execution_count": null,
      "metadata": {
        "colab": {
          "base_uri": "https://localhost:8080/"
        },
        "id": "ds0TDvDBFKb1",
        "outputId": "da0af209-982e-4732-ff9f-76e551c68de3"
      },
      "outputs": [
        {
          "data": {
            "text/plain": [
              "[<keras.layers.core.flatten.Flatten at 0x7f190692c890>,\n",
              " <keras.layers.core.dense.Dense at 0x7f190692cf50>,\n",
              " <keras.layers.core.dense.Dense at 0x7f1906ddc910>,\n",
              " <keras.layers.core.dense.Dense at 0x7f1906ddcb90>]"
            ]
          },
          "execution_count": 21,
          "metadata": {},
          "output_type": "execute_result"
        }
      ],
      "source": [
        "model.layers"
      ]
    },
    {
      "cell_type": "code",
      "execution_count": null,
      "metadata": {
        "colab": {
          "base_uri": "https://localhost:8080/"
        },
        "id": "Qh6-yOLsFKb4",
        "outputId": "657c8836-a34f-4866-aec6-3f277439e40f"
      },
      "outputs": [
        {
          "name": "stdout",
          "output_type": "stream",
          "text": [
            "Model: \"sequential\"\n",
            "_________________________________________________________________\n",
            " Layer (type)                Output Shape              Param #   \n",
            "=================================================================\n",
            " flatten (Flatten)           (None, 784)               0         \n",
            "                                                                 \n",
            " dense (Dense)               (None, 300)               235500    \n",
            "                                                                 \n",
            " dense_1 (Dense)             (None, 100)               30100     \n",
            "                                                                 \n",
            " dense_2 (Dense)             (None, 10)                1010      \n",
            "                                                                 \n",
            "=================================================================\n",
            "Total params: 266,610\n",
            "Trainable params: 266,610\n",
            "Non-trainable params: 0\n",
            "_________________________________________________________________\n"
          ]
        }
      ],
      "source": [
        "model.summary()"
      ]
    },
    {
      "cell_type": "code",
      "execution_count": null,
      "metadata": {
        "colab": {
          "base_uri": "https://localhost:8080/",
          "height": 35
        },
        "id": "TGjpMHMSFKb6",
        "outputId": "ae59a33d-a867-4eb1-850c-389ab75ce7d5"
      },
      "outputs": [
        {
          "data": {
            "application/vnd.google.colaboratory.intrinsic+json": {
              "type": "string"
            },
            "text/plain": [
              "'dense_1'"
            ]
          },
          "execution_count": 28,
          "metadata": {},
          "output_type": "execute_result"
        }
      ],
      "source": [
        "hidden1 = model.layers[2] # access individual layers\n",
        "hidden1.name"
      ]
    },
    {
      "cell_type": "code",
      "execution_count": null,
      "metadata": {
        "colab": {
          "base_uri": "https://localhost:8080/"
        },
        "id": "2IDnROJEFKb7",
        "outputId": "196530cc-3a34-49c6-f866-f3a7f555cdaf"
      },
      "outputs": [
        {
          "data": {
            "text/plain": [
              "True"
            ]
          },
          "execution_count": 33,
          "metadata": {},
          "output_type": "execute_result"
        }
      ],
      "source": [
        "model.get_layer(hidden1.name) is hidden1"
      ]
    },
    {
      "cell_type": "code",
      "execution_count": null,
      "metadata": {
        "id": "IK1ql7t4FKb8"
      },
      "outputs": [],
      "source": [
        "weights, biases = hidden1.get_weights()"
      ]
    },
    {
      "cell_type": "code",
      "execution_count": null,
      "metadata": {
        "colab": {
          "base_uri": "https://localhost:8080/"
        },
        "id": "yTrCsS2rFKb8",
        "outputId": "7e6a4b04-016f-4d7a-fa57-08e87a348160"
      },
      "outputs": [
        {
          "data": {
            "text/plain": [
              "array([[-0.09856108, -0.03964782, -0.10460811, ..., -0.11682571,\n",
              "        -0.10988266, -0.08601865],\n",
              "       [ 0.0120847 , -0.10815614, -0.04390524, ...,  0.05965982,\n",
              "        -0.02137399,  0.03737056],\n",
              "       [ 0.05106927,  0.08247524, -0.08934359, ..., -0.05715786,\n",
              "         0.04638856,  0.02495176],\n",
              "       ...,\n",
              "       [ 0.07774975, -0.08349944,  0.11444516, ..., -0.00561196,\n",
              "        -0.00261012, -0.05283229],\n",
              "       [-0.09220524, -0.08243664, -0.10171043, ..., -0.10532185,\n",
              "        -0.07465607, -0.0632925 ],\n",
              "       [ 0.07635293, -0.11277272, -0.09716355, ..., -0.115454  ,\n",
              "         0.11883067,  0.01952929]], dtype=float32)"
            ]
          },
          "execution_count": 35,
          "metadata": {},
          "output_type": "execute_result"
        }
      ],
      "source": [
        "weights"
      ]
    },
    {
      "cell_type": "code",
      "execution_count": null,
      "metadata": {
        "colab": {
          "base_uri": "https://localhost:8080/"
        },
        "id": "6z3bfWUSFKb9",
        "outputId": "c7ed128b-ef91-44b7-a9be-2e55a26a47e4"
      },
      "outputs": [
        {
          "data": {
            "text/plain": [
              "(300, 100)"
            ]
          },
          "execution_count": 36,
          "metadata": {},
          "output_type": "execute_result"
        }
      ],
      "source": [
        "weights.shape"
      ]
    },
    {
      "cell_type": "code",
      "execution_count": null,
      "metadata": {
        "colab": {
          "base_uri": "https://localhost:8080/"
        },
        "id": "OLXG0B7FFKb9",
        "outputId": "83722625-72f4-48b8-95ba-b1156d158fe1"
      },
      "outputs": [
        {
          "data": {
            "text/plain": [
              "array([0., 0., 0., 0., 0., 0., 0., 0., 0., 0., 0., 0., 0., 0., 0., 0., 0.,\n",
              "       0., 0., 0., 0., 0., 0., 0., 0., 0., 0., 0., 0., 0., 0., 0., 0., 0.,\n",
              "       0., 0., 0., 0., 0., 0., 0., 0., 0., 0., 0., 0., 0., 0., 0., 0., 0.,\n",
              "       0., 0., 0., 0., 0., 0., 0., 0., 0., 0., 0., 0., 0., 0., 0., 0., 0.,\n",
              "       0., 0., 0., 0., 0., 0., 0., 0., 0., 0., 0., 0., 0., 0., 0., 0., 0.,\n",
              "       0., 0., 0., 0., 0., 0., 0., 0., 0., 0., 0., 0., 0., 0., 0.],\n",
              "      dtype=float32)"
            ]
          },
          "execution_count": 37,
          "metadata": {},
          "output_type": "execute_result"
        }
      ],
      "source": [
        "biases"
      ]
    },
    {
      "cell_type": "code",
      "execution_count": null,
      "metadata": {
        "colab": {
          "base_uri": "https://localhost:8080/"
        },
        "id": "0OBpo93aFKb-",
        "outputId": "f712467f-0013-4805-e4ba-812bc3863b14"
      },
      "outputs": [
        {
          "data": {
            "text/plain": [
              "(100,)"
            ]
          },
          "execution_count": 38,
          "metadata": {},
          "output_type": "execute_result"
        }
      ],
      "source": [
        "biases.shape"
      ]
    },
    {
      "cell_type": "markdown",
      "metadata": {
        "id": "pVipDlQnFKb_"
      },
      "source": [
        "## Compilation and Training "
      ]
    },
    {
      "cell_type": "code",
      "execution_count": null,
      "metadata": {
        "id": "UlQuOJEtFKcA"
      },
      "outputs": [],
      "source": [
        "model.compile(loss=tf.keras.losses.SparseCategoricalCrossentropy(from_logits=True),  #This cross entropy works with not hot-encoded lables, from_logits=False if we use a softmax, we will use binary cross entropy with one final node for our task\n",
        "              optimizer=keras.optimizers.SGD(learning_rate= 0.1, momentum= 0.5, nesterov= True),  #Stochastic Gradient Descent\n",
        "              metrics=[\"accuracy\"]) #This is monitored but not part of the optimization problem"
      ]
    },
    {
      "cell_type": "markdown",
      "metadata": {
        "id": "ALfZYXIlFKcA"
      },
      "source": [
        "This is equivalent to:"
      ]
    },
    {
      "cell_type": "markdown",
      "metadata": {
        "id": "WXky8tUIFKcB"
      },
      "source": [
        "```python\n",
        "model.compile(loss=tf.keras.losses.SparseCategoricalCrossentropy(from_logits=True),\n",
        "              optimizer=keras.optimizers.SGD(),\n",
        "              metrics=[keras.metrics.sparse_categorical_accuracy])\n",
        "```"
      ]
    },
    {
      "cell_type": "code",
      "execution_count": null,
      "metadata": {
        "id": "WlyokltFPSfI"
      },
      "outputs": [],
      "source": [
        "keras.optimizers.SGD?"
      ]
    },
    {
      "cell_type": "code",
      "execution_count": null,
      "metadata": {
        "colab": {
          "base_uri": "https://localhost:8080/"
        },
        "id": "XYTGYyVFFKcC",
        "outputId": "b0d0649c-dfd6-4aaf-a54e-3c132a85e6d8"
      },
      "outputs": [
        {
          "name": "stdout",
          "output_type": "stream",
          "text": [
            "Epoch 1/5\n",
            "1719/1719 [==============================] - 7s 4ms/step - loss: 0.2876 - accuracy: 0.8916 - val_loss: 0.3196 - val_accuracy: 0.8844\n",
            "Epoch 2/5\n",
            "1719/1719 [==============================] - 6s 4ms/step - loss: 0.2766 - accuracy: 0.8956 - val_loss: 0.3086 - val_accuracy: 0.8848\n",
            "Epoch 3/5\n",
            "1719/1719 [==============================] - 6s 4ms/step - loss: 0.2658 - accuracy: 0.8988 - val_loss: 0.3005 - val_accuracy: 0.8858\n",
            "Epoch 4/5\n",
            "1719/1719 [==============================] - 6s 4ms/step - loss: 0.2555 - accuracy: 0.9034 - val_loss: 0.3184 - val_accuracy: 0.8828\n",
            "Epoch 5/5\n",
            "1719/1719 [==============================] - 6s 4ms/step - loss: 0.2500 - accuracy: 0.9055 - val_loss: 0.3663 - val_accuracy: 0.8784\n"
          ]
        }
      ],
      "source": [
        "history = model.fit(X_train, y_train, epochs=5,\n",
        "                    validation_data=(X_valid, y_valid))"
      ]
    },
    {
      "cell_type": "code",
      "execution_count": null,
      "metadata": {
        "colab": {
          "base_uri": "https://localhost:8080/"
        },
        "id": "L8sIoC0EFKcD",
        "outputId": "86bc7023-a05e-4ddb-d949-a29e10fdfb2d"
      },
      "outputs": [
        {
          "data": {
            "text/plain": [
              "{'epochs': 5, 'steps': 1719, 'verbose': 1}"
            ]
          },
          "execution_count": 48,
          "metadata": {},
          "output_type": "execute_result"
        }
      ],
      "source": [
        "history.params"
      ]
    },
    {
      "cell_type": "code",
      "execution_count": null,
      "metadata": {
        "colab": {
          "base_uri": "https://localhost:8080/"
        },
        "id": "A9hEgEaiFKcD",
        "outputId": "c378a55b-77a4-422e-8055-20d4f085a937"
      },
      "outputs": [
        {
          "data": {
            "text/plain": [
              "keras.callbacks.History"
            ]
          },
          "execution_count": 51,
          "metadata": {},
          "output_type": "execute_result"
        }
      ],
      "source": [
        "type(history)"
      ]
    },
    {
      "cell_type": "code",
      "execution_count": null,
      "metadata": {
        "colab": {
          "base_uri": "https://localhost:8080/"
        },
        "id": "q-OcCZpiFKcE",
        "outputId": "56cdabf1-d378-426d-86aa-7668b9d4463b"
      },
      "outputs": [
        {
          "name": "stdout",
          "output_type": "stream",
          "text": [
            "[0, 1, 2, 3, 4]\n"
          ]
        }
      ],
      "source": [
        "print(history.epoch)"
      ]
    },
    {
      "cell_type": "code",
      "execution_count": null,
      "metadata": {
        "colab": {
          "base_uri": "https://localhost:8080/"
        },
        "id": "AH78SU54FKcE",
        "outputId": "51e57a6d-a781-4c31-a040-e288018a5835"
      },
      "outputs": [
        {
          "data": {
            "text/plain": [
              "dict_keys(['loss', 'accuracy', 'val_loss', 'val_accuracy'])"
            ]
          },
          "execution_count": 53,
          "metadata": {},
          "output_type": "execute_result"
        }
      ],
      "source": [
        "history.history.keys()"
      ]
    },
    {
      "cell_type": "code",
      "execution_count": null,
      "metadata": {
        "colab": {
          "base_uri": "https://localhost:8080/",
          "height": 386
        },
        "id": "8wpX7Dz6FKcE",
        "outputId": "35907c4f-df6d-4ec2-c502-68332b5e68d3"
      },
      "outputs": [
        {
          "name": "stdout",
          "output_type": "stream",
          "text": [
            "Saving figure keras_learning_curves_plot\n"
          ]
        },
        {
          "data": {
            "image/png": "[encoded data removed]",
            "text/plain": [
              "<Figure size 576x360 with 1 Axes>"
            ]
          },
          "metadata": {},
          "output_type": "display_data"
        }
      ],
      "source": [
        "import pandas as pd\n",
        "\n",
        "pd.DataFrame(history.history).plot(figsize=(8, 5))\n",
        "plt.grid(True)\n",
        "plt.gca().set_ylim(0, 1)\n",
        "save_fig(\"keras_learning_curves_plot\")\n",
        "plt.show()"
      ]
    },
    {
      "cell_type": "markdown",
      "metadata": {
        "id": "ZXn4p6jpFKcF"
      },
      "source": [
        "## Model Evaluation"
      ]
    },
    {
      "cell_type": "code",
      "execution_count": null,
      "metadata": {
        "colab": {
          "base_uri": "https://localhost:8080/"
        },
        "id": "g27ZSJErFKcF",
        "outputId": "e2707e09-478e-431f-e130-377a7273a0ff"
      },
      "outputs": [
        {
          "name": "stdout",
          "output_type": "stream",
          "text": [
            "313/313 [==============================] - 1s 3ms/step - loss: 0.4075 - accuracy: 0.8650\n"
          ]
        },
        {
          "data": {
            "text/plain": [
              "0.8650000095367432"
            ]
          },
          "execution_count": 61,
          "metadata": {},
          "output_type": "execute_result"
        }
      ],
      "source": [
        "model.evaluate(X_test, y_test)"
      ]
    },
    {
      "cell_type": "code",
      "execution_count": null,
      "metadata": {
        "colab": {
          "base_uri": "https://localhost:8080/"
        },
        "id": "FQV2eojSFKcF",
        "outputId": "30815a04-847d-4838-974e-af7468279dca"
      },
      "outputs": [
        {
          "data": {
            "text/plain": [
              "array([[0.   , 0.   , 0.   , 0.   , 0.   , 0.001, 0.   , 0.002, 0.   ,\n",
              "        0.997],\n",
              "       [0.   , 0.   , 0.964, 0.   , 0.032, 0.   , 0.004, 0.   , 0.   ,\n",
              "        0.   ],\n",
              "       [0.   , 1.   , 0.   , 0.   , 0.   , 0.   , 0.   , 0.   , 0.   ,\n",
              "        0.   ]], dtype=float32)"
            ]
          },
          "execution_count": 63,
          "metadata": {},
          "output_type": "execute_result"
        }
      ],
      "source": [
        "X_new = X_test[:3]\n",
        "y_proba = tf.nn.softmax(model.predict(X_new)).numpy()\n",
        "y_proba.round(3) #Probability that the first 3 images fall in the corresponding 10 class \n",
        "#N.B: even if you've probability 1 by the model, the prediction could be completely wrong "
      ]
    },
    {
      "cell_type": "code",
      "execution_count": null,
      "metadata": {
        "colab": {
          "base_uri": "https://localhost:8080/"
        },
        "id": "4a6ynqbaFKcG",
        "outputId": "a4c734fa-e27a-492c-97d4-05d0aaa56d49"
      },
      "outputs": [
        {
          "data": {
            "text/plain": [
              "array([9, 2, 1])"
            ]
          },
          "execution_count": 64,
          "metadata": {},
          "output_type": "execute_result"
        }
      ],
      "source": [
        "y_pred = np.argmax(model.predict(X_new), axis=-1) #Works even with the logit ouput of the model\n",
        "y_pred"
      ]
    },
    {
      "cell_type": "code",
      "execution_count": null,
      "metadata": {
        "colab": {
          "base_uri": "https://localhost:8080/"
        },
        "id": "c2iN_QFbFKcG",
        "outputId": "72c2a0c9-1bea-401e-b023-fcf006e5e5ba"
      },
      "outputs": [
        {
          "data": {
            "text/plain": [
              "array(['Ankle boot', 'Pullover', 'Trouser'], dtype='<U11')"
            ]
          },
          "execution_count": 65,
          "metadata": {},
          "output_type": "execute_result"
        }
      ],
      "source": [
        "np.array(class_names)[y_pred]"
      ]
    },
    {
      "cell_type": "code",
      "execution_count": null,
      "metadata": {
        "colab": {
          "base_uri": "https://localhost:8080/"
        },
        "id": "lYr90yOfFKcG",
        "outputId": "e868f1ac-fc95-47d6-b0bf-6b17f4c0d9ef"
      },
      "outputs": [
        {
          "data": {
            "text/plain": [
              "array([9, 2, 1], dtype=uint8)"
            ]
          },
          "execution_count": 66,
          "metadata": {},
          "output_type": "execute_result"
        }
      ],
      "source": [
        "y_new = y_test[:3]\n",
        "y_new"
      ]
    },
    {
      "cell_type": "code",
      "execution_count": null,
      "metadata": {
        "colab": {
          "base_uri": "https://localhost:8080/",
          "height": 182
        },
        "id": "69J1IV1eFKcH",
        "outputId": "b1396208-5591-414e-85a5-ad5d0485c0aa"
      },
      "outputs": [
        {
          "name": "stdout",
          "output_type": "stream",
          "text": [
            "Saving figure fashion_mnist_images_plot\n"
          ]
        },
        {
          "data": {
            "image/png": "[encoded data removed]",
            "text/plain": [
              "<Figure size 518.4x172.8 with 3 Axes>"
            ]
          },
          "metadata": {},
          "output_type": "display_data"
        }
      ],
      "source": [
        "plt.figure(figsize=(7.2, 2.4))\n",
        "for index, image in enumerate(X_new):\n",
        "    plt.subplot(1, 3, index + 1)\n",
        "    plt.imshow(image, cmap=\"binary\", interpolation=\"nearest\")\n",
        "    plt.axis('off')\n",
        "    plt.title(class_names[y_test[index]], fontsize=12)\n",
        "plt.subplots_adjust(wspace=0.2, hspace=0.5)\n",
        "save_fig('fashion_mnist_images_plot', tight_layout=False)\n",
        "plt.show()"
      ]
    },
    {
      "cell_type": "code",
      "execution_count": null,
      "metadata": {
        "id": "WvzwDFS1FKcH"
      },
      "outputs": [],
      "source": [
        "?model.predict"
      ]
    },
    {
      "cell_type": "markdown",
      "metadata": {
        "id": "Gu-hCHOaFKcH"
      },
      "source": [
        "## GPU Training"
      ]
    },
    {
      "cell_type": "markdown",
      "metadata": {
        "id": "W6EpfV6vFKcI"
      },
      "source": [
        "Keras/TensorFlow will make use of gpu accelerators if available. You can check if your machine has a CUDA gpu with"
      ]
    },
    {
      "cell_type": "code",
      "execution_count": null,
      "metadata": {
        "colab": {
          "base_uri": "https://localhost:8080/"
        },
        "id": "87JUof8EFKcI",
        "outputId": "c8941fd6-0ae5-4f18-e71e-ca02e0be668c"
      },
      "outputs": [
        {
          "name": "stdout",
          "output_type": "stream",
          "text": [
            "Num GPUs Available:  1\n"
          ]
        }
      ],
      "source": [
        "print(\"Num GPUs Available: \", len(tf.config.list_physical_devices('GPU')))"
      ]
    },
    {
      "cell_type": "code",
      "execution_count": null,
      "metadata": {
        "colab": {
          "base_uri": "https://localhost:8080/"
        },
        "id": "6fAw4X-YFKcI",
        "outputId": "7a3a3367-4435-4fd9-f414-78503999b06f"
      },
      "outputs": [
        {
          "data": {
            "text/plain": [
              "[PhysicalDevice(name='/physical_device:GPU:0', device_type='GPU')]"
            ]
          },
          "execution_count": 5,
          "metadata": {},
          "output_type": "execute_result"
        }
      ],
      "source": [
        " tf.config.experimental.list_physical_devices('GPU')"
      ]
    },
    {
      "cell_type": "markdown",
      "metadata": {
        "id": "Hx85KFKvFKcJ"
      },
      "source": [
        "You can force using a specific device or cpu with \n",
        "```python\n",
        "with tf.device('/gpu:0'):\n",
        "    model.fit(X, y, epochs=20, batch_size=128, callbacks=callbacks_list)\n",
        "```\n",
        "or setting\n",
        "```python\n",
        "import os\n",
        "os.environ['CUDA_VISIBLE_DEVICES'] = '-1'\n",
        "```\n",
        "before importing tensorflow."
      ]
    },
    {
      "cell_type": "markdown",
      "metadata": {
        "id": "S45uZU5jFKcJ"
      },
      "source": [
        "# Functional API\n",
        "\n",
        "The Functional API provides a more flexible alternative to Sequential API for model building. \n",
        "This is particularly useful when our model doesn't have a linear structure, e.g. has skip connections and concatenations."
      ]
    },
    {
      "cell_type": "code",
      "execution_count": null,
      "metadata": {
        "colab": {
          "base_uri": "https://localhost:8080/"
        },
        "id": "wb3hr9I2FKcJ",
        "outputId": "1c0f49f5-99b7-4d0f-f9de-c1064661cbfb"
      },
      "outputs": [
        {
          "name": "stdout",
          "output_type": "stream",
          "text": [
            "Model: \"model\"\n",
            "_________________________________________________________________\n",
            " Layer (type)                Output Shape              Param #   \n",
            "=================================================================\n",
            " input_1 (InputLayer)        [(None, 28, 28)]          0         \n",
            "                                                                 \n",
            " flatten (Flatten)           (None, 784)               0         \n",
            "                                                                 \n",
            " dense (Dense)               (None, 300)               235500    \n",
            "                                                                 \n",
            " dense_1 (Dense)             (None, 100)               30100     \n",
            "                                                                 \n",
            " dense_2 (Dense)             (None, 10)                1010      \n",
            "                                                                 \n",
            "=================================================================\n",
            "Total params: 266,610\n",
            "Trainable params: 266,610\n",
            "Non-trainable params: 0\n",
            "_________________________________________________________________\n"
          ]
        }
      ],
      "source": [
        "# model = keras.models.Sequential()\n",
        "# model.add(Flatten(input_shape=[28, 28])) # input_shape doesn't include batch dimension\n",
        "# model.add(Dense(300, activation=\"relu\"))\n",
        "# model.add(Dense(100, activation=\"relu\"))\n",
        "# model.add(Dense(10, activation=\"softmax\"))\n",
        "\n",
        "input_ = Input(shape=[28, 28]) # pass shape excluding batch dimension\n",
        "x = Flatten()(input_)\n",
        "x = keras.layers.Dense(300, activation=\"relu\")(x)\n",
        "x = keras.layers.Dense(100, activation=\"relu\")(x)\n",
        "output = keras.layers.Dense(10)(x)\n",
        "model = keras.models.Model(inputs=[input_], outputs=[output])\n",
        "\n",
        "model.summary()"
      ]
    },
    {
      "cell_type": "code",
      "execution_count": null,
      "metadata": {
        "id": "AYqWtBnHFKcK"
      },
      "outputs": [],
      "source": [
        "loss = tf.keras.losses.SparseCategoricalCrossentropy(from_logits=True)\n",
        "opt = tf.keras.optimizers.Adam(learning_rate=0.001)\n",
        "model.compile(loss=tf.keras.losses.SparseCategoricalCrossentropy(from_logits=True),\n",
        "              optimizer=opt,\n",
        "              metrics=[\"accuracy\"])"
      ]
    },
    {
      "cell_type": "code",
      "execution_count": null,
      "metadata": {
        "id": "d72_mnjuFKcK",
        "outputId": "cc9c91b5-56d1-4dbe-e31e-3ef100709a0f"
      },
      "outputs": [
        {
          "name": "stdout",
          "output_type": "stream",
          "text": [
            "Epoch 1/5\n",
            "1719/1719 [==============================] - 3s 1ms/step - loss: 0.4467 - accuracy: 0.8409 - val_loss: 0.3628 - val_accuracy: 0.8702\n",
            "Epoch 2/5\n",
            "1719/1719 [==============================] - 2s 1ms/step - loss: 0.3602 - accuracy: 0.8685 - val_loss: 0.3582 - val_accuracy: 0.8718\n",
            "Epoch 3/5\n",
            "1719/1719 [==============================] - 2s 1ms/step - loss: 0.3188 - accuracy: 0.8828 - val_loss: 0.3089 - val_accuracy: 0.8890\n",
            "Epoch 4/5\n",
            "1719/1719 [==============================] - 2s 1ms/step - loss: 0.2991 - accuracy: 0.8888 - val_loss: 0.3097 - val_accuracy: 0.8884\n",
            "Epoch 5/5\n",
            "1719/1719 [==============================] - 2s 1ms/step - loss: 0.2838 - accuracy: 0.8946 - val_loss: 0.2965 - val_accuracy: 0.8964\n"
          ]
        }
      ],
      "source": [
        "history = model.fit(X_train, y_train, epochs=5,\n",
        "                    validation_data=(X_valid, y_valid))"
      ]
    },
    {
      "cell_type": "markdown",
      "metadata": {
        "id": "fshuKhMGFKcK"
      },
      "source": [
        "# Save and Load models"
      ]
    },
    {
      "cell_type": "markdown",
      "metadata": {
        "id": "HUUrbZ13FKcL"
      },
      "source": [
        "Save the entire model:"
      ]
    },
    {
      "cell_type": "code",
      "execution_count": null,
      "metadata": {
        "id": "2wIwz3jDFKcL"
      },
      "outputs": [],
      "source": [
        "\n",
        "model.save(\"my_keras_model\")\n",
        "\n",
        "\n",
        "model = keras.models.load_model(\"my_keras_model\")"
      ]
    },
    {
      "cell_type": "markdown",
      "metadata": {
        "id": "FCGk-OBxFKcL"
      },
      "source": [
        "Save only the weight (useful for transfer learning):\n",
        "What you do \n"
      ]
    },
    {
      "cell_type": "code",
      "execution_count": null,
      "metadata": {
        "id": "T4YNO44LFKcL",
        "outputId": "43faed0f-8a3e-44a6-ed91-85cae30d9022"
      },
      "outputs": [
        {
          "data": {
            "text/plain": [
              "<tensorflow.python.training.tracking.util.CheckpointLoadStatus at 0x7f1240756c10>"
            ]
          },
          "execution_count": 82,
          "metadata": {},
          "output_type": "execute_result"
        }
      ],
      "source": [
        "\n",
        "model.save_weights(\"my_keras_weights.ckpt\")\n",
        "\n",
        "model.load_weights(\"my_keras_weights.ckpt\")"
      ]
    },
    {
      "cell_type": "markdown",
      "metadata": {
        "id": "yr3jzQLVFKcM"
      },
      "source": [
        "# Callbacks"
      ]
    },
    {
      "cell_type": "code",
      "execution_count": null,
      "metadata": {
        "id": "XjxQ_Xj-FKcM"
      },
      "outputs": [],
      "source": [
        "?keras.callbacks.ModelCheckpoint"
      ]
    },
    {
      "cell_type": "markdown",
      "metadata": {
        "id": "KTtk1iB3Y0wl"
      },
      "source": [
        "When I train care for the validation loss, the validation loss can go up again with overfitting, this method stops the process of learning when the validation loss increases again (or not degreases anymore)\n",
        "- Avoids overfitting\n",
        "- Saves time "
      ]
    },
    {
      "cell_type": "code",
      "execution_count": null,
      "metadata": {
        "id": "Mujwz8fzFKcM"
      },
      "outputs": [],
      "source": [
        "?keras.callbacks.EarlyStopping"
      ]
    },
    {
      "cell_type": "code",
      "execution_count": null,
      "metadata": {
        "colab": {
          "base_uri": "https://localhost:8080/"
        },
        "id": "OUNJ75nJFKcN",
        "outputId": "5ebb1d0a-57d5-408f-8b4c-664273653541"
      },
      "outputs": [
        {
          "name": "stdout",
          "output_type": "stream",
          "text": [
            "Epoch 1/5\n",
            "1718/1719 [============================>.] - ETA: 0s - loss: 0.4861 - accuracy: 0.8243INFO:tensorflow:Assets written to: my_keras_model/assets\n",
            "1719/1719 [==============================] - 9s 4ms/step - loss: 0.4862 - accuracy: 0.8242 - val_loss: 0.3663 - val_accuracy: 0.8634\n",
            "Epoch 2/5\n",
            "1719/1719 [==============================] - 6s 3ms/step - loss: 0.3646 - accuracy: 0.8656 - val_loss: 0.3729 - val_accuracy: 0.8622\n",
            "Epoch 3/5\n",
            "1712/1719 [============================>.] - ETA: 0s - loss: 0.3294 - accuracy: 0.8778INFO:tensorflow:Assets written to: my_keras_model/assets\n",
            "1719/1719 [==============================] - 7s 4ms/step - loss: 0.3295 - accuracy: 0.8778 - val_loss: 0.3251 - val_accuracy: 0.8804\n",
            "Epoch 4/5\n",
            "1719/1719 [==============================] - 6s 4ms/step - loss: 0.3029 - accuracy: 0.8860 - val_loss: 0.3430 - val_accuracy: 0.8740\n",
            "Epoch 5/5\n",
            "1708/1719 [============================>.] - ETA: 0s - loss: 0.2860 - accuracy: 0.8930INFO:tensorflow:Assets written to: my_keras_model/assets\n",
            "1719/1719 [==============================] - 7s 4ms/step - loss: 0.2862 - accuracy: 0.8929 - val_loss: 0.3225 - val_accuracy: 0.8824\n"
          ]
        }
      ],
      "source": [
        "early_stopping_cb = keras.callbacks.EarlyStopping(patience=10, restore_best_weights=True)\n",
        "checkpoint_cb = keras.callbacks.ModelCheckpoint(\"my_keras_model\", save_best_only=True)\n",
        "\n",
        "history = model.fit(X_train, y_train, epochs=5,\n",
        "                    validation_data=(X_valid, y_valid),\n",
        "                    callbacks=[checkpoint_cb, early_stopping_cb])"
      ]
    },
    {
      "cell_type": "markdown",
      "metadata": {
        "id": "S-9x-UPdFKcN"
      },
      "source": [
        "# Exercise 1\n",
        "\n",
        "Change the labels of the FashionMNIST dataset setting the first 5 classes to 0 and the second 5 to 1.\n",
        "Now we have a binary classification problem. Change the model architecture and loss function to solve the\n",
        "problem and try to optimize the validation accuracy experimenting with hyperparameters."
      ]
    },
    {
      "cell_type": "markdown",
      "metadata": {
        "id": "97PRD6YOFKcO"
      },
      "source": [
        "Use the following code to change the labels."
      ]
    },
    {
      "cell_type": "code",
      "execution_count": null,
      "metadata": {
        "id": "pvC2Y36_FKcO"
      },
      "outputs": [],
      "source": [
        "y_train_binary = y_train.copy()\n",
        "y_valid_binary = y_valid.copy()\n",
        "y_test_binary = y_test.copy()\n",
        "\n",
        "for i in [0, 1, 2, 3, 4]:\n",
        "    y_train_binary[y_train == i] = 0\n",
        "    y_valid_binary[y_valid == i] = 0\n",
        "    y_test_binary[y_test == i] = 0\n",
        "\n",
        "for i in [5, 6, 7, 8, 9]:\n",
        "    y_train_binary[y_train == i] = 1\n",
        "    y_valid_binary[y_valid == i] = 1\n",
        "    y_test_binary[y_test == i] = 1\n"
      ]
    },
    {
      "cell_type": "code",
      "execution_count": null,
      "metadata": {
        "colab": {
          "background_save": true,
          "base_uri": "https://localhost:8080/"
        },
        "id": "UWdywY4jFKcO",
        "outputId": "df6d82f6-c600-465f-9bc9-00d226b87dc6"
      },
      "outputs": [
        {
          "name": "stdout",
          "output_type": "stream",
          "text": [
            "Epoch 1/100\n",
            "1710/1719 [============================>.] - ETA: 0s - loss: 0.3120 - accuracy: 0.8671INFO:tensorflow:Assets written to: my_keras_model/assets\n",
            "1719/1719 [==============================] - 8s 4ms/step - loss: 0.3118 - accuracy: 0.8671 - val_loss: 0.2485 - val_accuracy: 0.8916\n",
            "Epoch 2/100\n",
            "1716/1719 [============================>.] - ETA: 0s - loss: 0.2408 - accuracy: 0.8942INFO:tensorflow:Assets written to: my_keras_model/assets\n",
            "1719/1719 [==============================] - 7s 4ms/step - loss: 0.2407 - accuracy: 0.8942 - val_loss: 0.2244 - val_accuracy: 0.8974\n",
            "Epoch 3/100\n",
            "1718/1719 [============================>.] - ETA: 0s - loss: 0.2222 - accuracy: 0.8991INFO:tensorflow:Assets written to: my_keras_model/assets\n",
            "1719/1719 [==============================] - 7s 4ms/step - loss: 0.2222 - accuracy: 0.8991 - val_loss: 0.2125 - val_accuracy: 0.9034\n",
            "Epoch 4/100\n",
            "1707/1719 [============================>.] - ETA: 0s - loss: 0.2115 - accuracy: 0.9052INFO:tensorflow:Assets written to: my_keras_model/assets\n",
            "1719/1719 [==============================] - 8s 5ms/step - loss: 0.2112 - accuracy: 0.9054 - val_loss: 0.2052 - val_accuracy: 0.9058\n",
            "Epoch 5/100\n",
            "1715/1719 [============================>.] - ETA: 0s - loss: 0.2038 - accuracy: 0.9097INFO:tensorflow:Assets written to: my_keras_model/assets\n",
            "1719/1719 [==============================] - 7s 4ms/step - loss: 0.2037 - accuracy: 0.9098 - val_loss: 0.2031 - val_accuracy: 0.9052\n",
            "Epoch 6/100\n",
            "1719/1719 [==============================] - ETA: 0s - loss: 0.1981 - accuracy: 0.9131INFO:tensorflow:Assets written to: my_keras_model/assets\n",
            "1719/1719 [==============================] - 7s 4ms/step - loss: 0.1981 - accuracy: 0.9131 - val_loss: 0.1968 - val_accuracy: 0.9094\n",
            "Epoch 7/100\n",
            "1712/1719 [============================>.] - ETA: 0s - loss: 0.1938 - accuracy: 0.9146INFO:tensorflow:Assets written to: my_keras_model/assets\n",
            "1719/1719 [==============================] - 8s 5ms/step - loss: 0.1938 - accuracy: 0.9146 - val_loss: 0.1926 - val_accuracy: 0.9122\n",
            "Epoch 8/100\n",
            "1709/1719 [============================>.] - ETA: 0s - loss: 0.1900 - accuracy: 0.9166INFO:tensorflow:Assets written to: my_keras_model/assets\n",
            "1719/1719 [==============================] - 7s 4ms/step - loss: 0.1900 - accuracy: 0.9166 - val_loss: 0.1920 - val_accuracy: 0.9114\n",
            "Epoch 9/100\n",
            "1714/1719 [============================>.] - ETA: 0s - loss: 0.1870 - accuracy: 0.9176INFO:tensorflow:Assets written to: my_keras_model/assets\n",
            "1719/1719 [==============================] - 7s 4ms/step - loss: 0.1870 - accuracy: 0.9175 - val_loss: 0.1887 - val_accuracy: 0.9136\n",
            "Epoch 10/100\n",
            "1715/1719 [============================>.] - ETA: 0s - loss: 0.1841 - accuracy: 0.9189INFO:tensorflow:Assets written to: my_keras_model/assets\n",
            "1719/1719 [==============================] - 7s 4ms/step - loss: 0.1843 - accuracy: 0.9189 - val_loss: 0.1841 - val_accuracy: 0.9186\n",
            "Epoch 11/100\n",
            "1717/1719 [============================>.] - ETA: 0s - loss: 0.1816 - accuracy: 0.9204INFO:tensorflow:Assets written to: my_keras_model/assets\n",
            "1719/1719 [==============================] - 7s 4ms/step - loss: 0.1816 - accuracy: 0.9204 - val_loss: 0.1816 - val_accuracy: 0.9208\n",
            "Epoch 12/100\n",
            "1710/1719 [============================>.] - ETA: 0s - loss: 0.1795 - accuracy: 0.9218INFO:tensorflow:Assets written to: my_keras_model/assets\n",
            "1719/1719 [==============================] - 7s 4ms/step - loss: 0.1794 - accuracy: 0.9218 - val_loss: 0.1801 - val_accuracy: 0.9198\n",
            "Epoch 13/100\n",
            "1715/1719 [============================>.] - ETA: 0s - loss: 0.1771 - accuracy: 0.9225INFO:tensorflow:Assets written to: my_keras_model/assets\n",
            "1719/1719 [==============================] - 7s 4ms/step - loss: 0.1770 - accuracy: 0.9226 - val_loss: 0.1778 - val_accuracy: 0.9234\n",
            "Epoch 14/100\n",
            "1719/1719 [==============================] - ETA: 0s - loss: 0.1752 - accuracy: 0.9236INFO:tensorflow:Assets written to: my_keras_model/assets\n",
            "1719/1719 [==============================] - 8s 4ms/step - loss: 0.1752 - accuracy: 0.9236 - val_loss: 0.1768 - val_accuracy: 0.9208\n",
            "Epoch 15/100\n",
            "1706/1719 [============================>.] - ETA: 0s - loss: 0.1733 - accuracy: 0.9241INFO:tensorflow:Assets written to: my_keras_model/assets\n",
            "1719/1719 [==============================] - 8s 4ms/step - loss: 0.1734 - accuracy: 0.9240 - val_loss: 0.1750 - val_accuracy: 0.9220\n",
            "Epoch 16/100\n",
            "1709/1719 [============================>.] - ETA: 0s - loss: 0.1713 - accuracy: 0.9245INFO:tensorflow:Assets written to: my_keras_model/assets\n",
            "1719/1719 [==============================] - 7s 4ms/step - loss: 0.1713 - accuracy: 0.9245 - val_loss: 0.1734 - val_accuracy: 0.9240\n",
            "Epoch 17/100\n",
            "1719/1719 [==============================] - 7s 4ms/step - loss: 0.1695 - accuracy: 0.9259 - val_loss: 0.1754 - val_accuracy: 0.9194\n",
            "Epoch 18/100\n",
            "1714/1719 [============================>.] - ETA: 0s - loss: 0.1680 - accuracy: 0.9265INFO:tensorflow:Assets written to: my_keras_model/assets\n",
            "1719/1719 [==============================] - 8s 4ms/step - loss: 0.1681 - accuracy: 0.9265 - val_loss: 0.1699 - val_accuracy: 0.9276\n",
            "Epoch 19/100\n",
            "1716/1719 [============================>.] - ETA: 0s - loss: 0.1662 - accuracy: 0.9277INFO:tensorflow:Assets written to: my_keras_model/assets\n",
            "1719/1719 [==============================] - 7s 4ms/step - loss: 0.1663 - accuracy: 0.9277 - val_loss: 0.1696 - val_accuracy: 0.9246\n",
            "Epoch 20/100\n",
            "1715/1719 [============================>.] - ETA: 0s - loss: 0.1646 - accuracy: 0.9281INFO:tensorflow:Assets written to: my_keras_model/assets\n",
            "1719/1719 [==============================] - 7s 4ms/step - loss: 0.1648 - accuracy: 0.9279 - val_loss: 0.1672 - val_accuracy: 0.9262\n",
            "Epoch 21/100\n",
            "1709/1719 [============================>.] - ETA: 0s - loss: 0.1638 - accuracy: 0.9278INFO:tensorflow:Assets written to: my_keras_model/assets\n",
            "1719/1719 [==============================] - 7s 4ms/step - loss: 0.1636 - accuracy: 0.9279 - val_loss: 0.1661 - val_accuracy: 0.9294\n",
            "Epoch 22/100\n",
            "1711/1719 [============================>.] - ETA: 0s - loss: 0.1621 - accuracy: 0.9288INFO:tensorflow:Assets written to: my_keras_model/assets\n",
            "1719/1719 [==============================] - 7s 4ms/step - loss: 0.1621 - accuracy: 0.9288 - val_loss: 0.1657 - val_accuracy: 0.9264\n",
            "Epoch 23/100\n",
            "1719/1719 [==============================] - 7s 4ms/step - loss: 0.1607 - accuracy: 0.9298 - val_loss: 0.1680 - val_accuracy: 0.9244\n",
            "Epoch 24/100\n",
            "1717/1719 [============================>.] - ETA: 0s - loss: 0.1596 - accuracy: 0.9298INFO:tensorflow:Assets written to: my_keras_model/assets\n",
            "1719/1719 [==============================] - 7s 4ms/step - loss: 0.1595 - accuracy: 0.9299 - val_loss: 0.1625 - val_accuracy: 0.9296\n",
            "Epoch 25/100\n",
            "1713/1719 [============================>.] - ETA: 0s - loss: 0.1583 - accuracy: 0.9307INFO:tensorflow:Assets written to: my_keras_model/assets\n",
            "1719/1719 [==============================] - 7s 4ms/step - loss: 0.1583 - accuracy: 0.9307 - val_loss: 0.1613 - val_accuracy: 0.9290\n",
            "Epoch 26/100\n",
            "1719/1719 [==============================] - 7s 4ms/step - loss: 0.1571 - accuracy: 0.9312 - val_loss: 0.1620 - val_accuracy: 0.9276\n",
            "Epoch 27/100\n",
            "1715/1719 [============================>.] - ETA: 0s - loss: 0.1557 - accuracy: 0.9317INFO:tensorflow:Assets written to: my_keras_model/assets\n",
            "1719/1719 [==============================] - 8s 5ms/step - loss: 0.1557 - accuracy: 0.9316 - val_loss: 0.1594 - val_accuracy: 0.9304\n",
            "Epoch 28/100\n",
            "1719/1719 [==============================] - 7s 4ms/step - loss: 0.1547 - accuracy: 0.9323 - val_loss: 0.1617 - val_accuracy: 0.9288\n",
            "Epoch 29/100\n",
            "1719/1719 [==============================] - 8s 4ms/step - loss: 0.1534 - accuracy: 0.9333 - val_loss: 0.1607 - val_accuracy: 0.9276\n",
            "Epoch 30/100\n",
            "1713/1719 [============================>.] - ETA: 0s - loss: 0.1523 - accuracy: 0.9335INFO:tensorflow:Assets written to: my_keras_model/assets\n",
            "1719/1719 [==============================] - 9s 5ms/step - loss: 0.1522 - accuracy: 0.9335 - val_loss: 0.1565 - val_accuracy: 0.9342\n",
            "Epoch 31/100\n",
            "1715/1719 [============================>.] - ETA: 0s - loss: 0.1510 - accuracy: 0.9345INFO:tensorflow:Assets written to: my_keras_model/assets\n",
            "1719/1719 [==============================] - 8s 5ms/step - loss: 0.1510 - accuracy: 0.9345 - val_loss: 0.1554 - val_accuracy: 0.9334\n",
            "Epoch 32/100\n",
            "1711/1719 [============================>.] - ETA: 0s - loss: 0.1500 - accuracy: 0.9340INFO:tensorflow:Assets written to: my_keras_model/assets\n",
            "1719/1719 [==============================] - 8s 5ms/step - loss: 0.1501 - accuracy: 0.9340 - val_loss: 0.1547 - val_accuracy: 0.9328\n",
            "Epoch 33/100\n",
            "1719/1719 [==============================] - 8s 4ms/step - loss: 0.1492 - accuracy: 0.9345 - val_loss: 0.1547 - val_accuracy: 0.9316\n",
            "Epoch 34/100\n",
            "1719/1719 [==============================] - 8s 4ms/step - loss: 0.1478 - accuracy: 0.9354 - val_loss: 0.1629 - val_accuracy: 0.9356\n",
            "Epoch 35/100\n",
            "1716/1719 [============================>.] - ETA: 0s - loss: 0.1471 - accuracy: 0.9360INFO:tensorflow:Assets written to: my_keras_model/assets\n",
            "1719/1719 [==============================] - 8s 5ms/step - loss: 0.1470 - accuracy: 0.9360 - val_loss: 0.1531 - val_accuracy: 0.9374\n",
            "Epoch 36/100\n",
            "1719/1719 [==============================] - 8s 5ms/step - loss: 0.1457 - accuracy: 0.9363 - val_loss: 0.1565 - val_accuracy: 0.9378\n",
            "Epoch 37/100\n",
            "1718/1719 [============================>.] - ETA: 0s - loss: 0.1447 - accuracy: 0.9370INFO:tensorflow:Assets written to: my_keras_model/assets\n",
            "1719/1719 [==============================] - 8s 5ms/step - loss: 0.1447 - accuracy: 0.9370 - val_loss: 0.1528 - val_accuracy: 0.9334\n",
            "Epoch 38/100\n",
            "1719/1719 [==============================] - 8s 4ms/step - loss: 0.1440 - accuracy: 0.9366 - val_loss: 0.1539 - val_accuracy: 0.9314\n",
            "Epoch 39/100\n",
            "1717/1719 [============================>.] - ETA: 0s - loss: 0.1430 - accuracy: 0.9375INFO:tensorflow:Assets written to: my_keras_model/assets\n",
            "1719/1719 [==============================] - 8s 5ms/step - loss: 0.1430 - accuracy: 0.9376 - val_loss: 0.1495 - val_accuracy: 0.9354\n",
            "Epoch 40/100\n",
            "1719/1719 [==============================] - 8s 4ms/step - loss: 0.1420 - accuracy: 0.9379 - val_loss: 0.1498 - val_accuracy: 0.9392\n",
            "Epoch 41/100\n",
            "1712/1719 [============================>.] - ETA: 0s - loss: 0.1411 - accuracy: 0.9384INFO:tensorflow:Assets written to: my_keras_model/assets\n",
            "1719/1719 [==============================] - 8s 5ms/step - loss: 0.1411 - accuracy: 0.9384 - val_loss: 0.1490 - val_accuracy: 0.9378\n",
            "Epoch 42/100\n",
            "1712/1719 [============================>.] - ETA: 0s - loss: 0.1402 - accuracy: 0.9389INFO:tensorflow:Assets written to: my_keras_model/assets\n",
            "1719/1719 [==============================] - 8s 5ms/step - loss: 0.1401 - accuracy: 0.9389 - val_loss: 0.1479 - val_accuracy: 0.9366\n",
            "Epoch 43/100\n",
            "1719/1719 [==============================] - 8s 4ms/step - loss: 0.1394 - accuracy: 0.9388 - val_loss: 0.1496 - val_accuracy: 0.9352\n",
            "Epoch 44/100\n",
            "1719/1719 [==============================] - 8s 4ms/step - loss: 0.1383 - accuracy: 0.9398 - val_loss: 0.1507 - val_accuracy: 0.9340\n",
            "Epoch 45/100\n",
            "1715/1719 [============================>.] - ETA: 0s - loss: 0.1375 - accuracy: 0.9404INFO:tensorflow:Assets written to: my_keras_model/assets\n",
            "1719/1719 [==============================] - 8s 5ms/step - loss: 0.1375 - accuracy: 0.9404 - val_loss: 0.1462 - val_accuracy: 0.9400\n",
            "Epoch 46/100\n",
            "1719/1719 [==============================] - 7s 4ms/step - loss: 0.1369 - accuracy: 0.9406 - val_loss: 0.1462 - val_accuracy: 0.9402\n",
            "Epoch 47/100\n",
            "1709/1719 [============================>.] - ETA: 0s - loss: 0.1357 - accuracy: 0.9408INFO:tensorflow:Assets written to: my_keras_model/assets\n",
            "1719/1719 [==============================] - 8s 5ms/step - loss: 0.1357 - accuracy: 0.9408 - val_loss: 0.1456 - val_accuracy: 0.9388\n",
            "Epoch 48/100\n",
            "1709/1719 [============================>.] - ETA: 0s - loss: 0.1347 - accuracy: 0.9414INFO:tensorflow:Assets written to: my_keras_model/assets\n",
            "1719/1719 [==============================] - 8s 5ms/step - loss: 0.1348 - accuracy: 0.9414 - val_loss: 0.1454 - val_accuracy: 0.9398\n",
            "Epoch 49/100\n",
            "1719/1719 [==============================] - 7s 4ms/step - loss: 0.1339 - accuracy: 0.9417 - val_loss: 0.1494 - val_accuracy: 0.9366\n",
            "Epoch 50/100\n",
            "1710/1719 [============================>.] - ETA: 0s - loss: 0.1332 - accuracy: 0.9422INFO:tensorflow:Assets written to: my_keras_model/assets\n",
            "1719/1719 [==============================] - 8s 5ms/step - loss: 0.1333 - accuracy: 0.9422 - val_loss: 0.1452 - val_accuracy: 0.9384\n",
            "Epoch 51/100\n",
            "1715/1719 [============================>.] - ETA: 0s - loss: 0.1323 - accuracy: 0.9428INFO:tensorflow:Assets written to: my_keras_model/assets\n",
            "1719/1719 [==============================] - 8s 4ms/step - loss: 0.1324 - accuracy: 0.9428 - val_loss: 0.1448 - val_accuracy: 0.9422\n",
            "Epoch 52/100\n",
            "1719/1719 [==============================] - ETA: 0s - loss: 0.1313 - accuracy: 0.9426INFO:tensorflow:Assets written to: my_keras_model/assets\n",
            "1719/1719 [==============================] - 8s 5ms/step - loss: 0.1313 - accuracy: 0.9426 - val_loss: 0.1438 - val_accuracy: 0.9412\n",
            "Epoch 53/100\n",
            "1719/1719 [==============================] - 7s 4ms/step - loss: 0.1304 - accuracy: 0.9433 - val_loss: 0.1449 - val_accuracy: 0.9414\n",
            "Epoch 54/100\n",
            "1719/1719 [==============================] - 7s 4ms/step - loss: 0.1300 - accuracy: 0.9436 - val_loss: 0.1445 - val_accuracy: 0.9414\n",
            "Epoch 55/100\n",
            "1717/1719 [============================>.] - ETA: 0s - loss: 0.1290 - accuracy: 0.9437INFO:tensorflow:Assets written to: my_keras_model/assets\n",
            "1719/1719 [==============================] - 7s 4ms/step - loss: 0.1290 - accuracy: 0.9438 - val_loss: 0.1426 - val_accuracy: 0.9406\n",
            "Epoch 56/100\n",
            "1719/1719 [==============================] - 7s 4ms/step - loss: 0.1285 - accuracy: 0.9440 - val_loss: 0.1432 - val_accuracy: 0.9396\n",
            "Epoch 57/100\n",
            "1719/1719 [==============================] - 7s 4ms/step - loss: 0.1277 - accuracy: 0.9452 - val_loss: 0.1430 - val_accuracy: 0.9420\n",
            "Epoch 58/100\n",
            "1707/1719 [============================>.] - ETA: 0s - loss: 0.1270 - accuracy: 0.9454INFO:tensorflow:Assets written to: my_keras_model/assets\n",
            "1719/1719 [==============================] - 7s 4ms/step - loss: 0.1270 - accuracy: 0.9454 - val_loss: 0.1410 - val_accuracy: 0.9406\n",
            "Epoch 59/100\n",
            "1719/1719 [==============================] - 7s 4ms/step - loss: 0.1263 - accuracy: 0.9448 - val_loss: 0.1430 - val_accuracy: 0.9418\n",
            "Epoch 60/100\n",
            "1719/1719 [==============================] - 7s 4ms/step - loss: 0.1254 - accuracy: 0.9463 - val_loss: 0.1508 - val_accuracy: 0.9414\n",
            "Epoch 61/100\n",
            "1710/1719 [============================>.] - ETA: 0s - loss: 0.1251 - accuracy: 0.9459INFO:tensorflow:Assets written to: my_keras_model/assets\n",
            "1719/1719 [==============================] - 8s 4ms/step - loss: 0.1249 - accuracy: 0.9460 - val_loss: 0.1408 - val_accuracy: 0.9414\n",
            "Epoch 62/100\n",
            "1719/1719 [==============================] - 7s 4ms/step - loss: 0.1240 - accuracy: 0.9457 - val_loss: 0.1439 - val_accuracy: 0.9410\n",
            "Epoch 63/100\n",
            "1719/1719 [==============================] - 7s 4ms/step - loss: 0.1234 - accuracy: 0.9464 - val_loss: 0.1413 - val_accuracy: 0.9420\n",
            "Epoch 64/100\n",
            "1719/1719 [==============================] - 7s 4ms/step - loss: 0.1224 - accuracy: 0.9465 - val_loss: 0.1419 - val_accuracy: 0.9412\n",
            "Epoch 65/100\n",
            "1716/1719 [============================>.] - ETA: 0s - loss: 0.1216 - accuracy: 0.9473INFO:tensorflow:Assets written to: my_keras_model/assets\n",
            "1719/1719 [==============================] - 7s 4ms/step - loss: 0.1216 - accuracy: 0.9473 - val_loss: 0.1398 - val_accuracy: 0.9434\n",
            "Epoch 66/100\n",
            "1719/1719 [==============================] - 7s 4ms/step - loss: 0.1212 - accuracy: 0.9473 - val_loss: 0.1452 - val_accuracy: 0.9396\n",
            "Epoch 67/100\n",
            "1719/1719 [==============================] - 7s 4ms/step - loss: 0.1206 - accuracy: 0.9478 - val_loss: 0.1414 - val_accuracy: 0.9412\n",
            "Epoch 68/100\n",
            "1719/1719 [==============================] - 7s 4ms/step - loss: 0.1195 - accuracy: 0.9482 - val_loss: 0.1411 - val_accuracy: 0.9408\n",
            "Epoch 69/100\n",
            "1719/1719 [==============================] - 7s 4ms/step - loss: 0.1190 - accuracy: 0.9490 - val_loss: 0.1416 - val_accuracy: 0.9408\n",
            "Epoch 70/100\n",
            "1719/1719 [==============================] - 7s 4ms/step - loss: 0.1185 - accuracy: 0.9480 - val_loss: 0.1405 - val_accuracy: 0.9416\n",
            "Epoch 71/100\n",
            "1712/1719 [============================>.] - ETA: 0s - loss: 0.1180 - accuracy: 0.9490INFO:tensorflow:Assets written to: my_keras_model/assets\n",
            "1719/1719 [==============================] - 7s 4ms/step - loss: 0.1180 - accuracy: 0.9490 - val_loss: 0.1395 - val_accuracy: 0.9444\n",
            "Epoch 72/100\n",
            "1719/1719 [==============================] - 7s 4ms/step - loss: 0.1171 - accuracy: 0.9495 - val_loss: 0.1447 - val_accuracy: 0.9402\n",
            "Epoch 73/100\n",
            "1719/1719 [==============================] - 7s 4ms/step - loss: 0.1163 - accuracy: 0.9498 - val_loss: 0.1430 - val_accuracy: 0.9402\n",
            "Epoch 74/100\n",
            "1719/1719 [==============================] - 7s 4ms/step - loss: 0.1156 - accuracy: 0.9506 - val_loss: 0.1408 - val_accuracy: 0.9434\n",
            "Epoch 75/100\n",
            "1719/1719 [==============================] - 7s 4ms/step - loss: 0.1148 - accuracy: 0.9505 - val_loss: 0.1445 - val_accuracy: 0.9396\n",
            "Epoch 76/100\n",
            "1719/1719 [==============================] - 7s 4ms/step - loss: 0.1143 - accuracy: 0.9509 - val_loss: 0.1407 - val_accuracy: 0.9454\n",
            "Epoch 77/100\n",
            "1719/1719 [==============================] - 7s 4ms/step - loss: 0.1138 - accuracy: 0.9507 - val_loss: 0.1469 - val_accuracy: 0.9444\n",
            "Epoch 78/100\n",
            "1712/1719 [============================>.] - ETA: 0s - loss: 0.1125 - accuracy: 0.9512INFO:tensorflow:Assets written to: my_keras_model/assets\n",
            "1719/1719 [==============================] - 8s 4ms/step - loss: 0.1128 - accuracy: 0.9511 - val_loss: 0.1380 - val_accuracy: 0.9438\n",
            "Epoch 79/100\n",
            "1719/1719 [==============================] - 7s 4ms/step - loss: 0.1128 - accuracy: 0.9513 - val_loss: 0.1393 - val_accuracy: 0.9434\n",
            "Epoch 80/100\n",
            "1719/1719 [==============================] - 8s 4ms/step - loss: 0.1118 - accuracy: 0.9518 - val_loss: 0.1415 - val_accuracy: 0.9414\n",
            "Epoch 81/100\n",
            "1712/1719 [============================>.] - ETA: 0s - loss: 0.1115 - accuracy: 0.9520INFO:tensorflow:Assets written to: my_keras_model/assets\n",
            "1719/1719 [==============================] - 8s 4ms/step - loss: 0.1115 - accuracy: 0.9520 - val_loss: 0.1376 - val_accuracy: 0.9442\n",
            "Epoch 82/100\n",
            "1719/1719 [==============================] - 7s 4ms/step - loss: 0.1107 - accuracy: 0.9527 - val_loss: 0.1380 - val_accuracy: 0.9434\n",
            "Epoch 83/100\n",
            "1719/1719 [==============================] - 7s 4ms/step - loss: 0.1098 - accuracy: 0.9522 - val_loss: 0.1379 - val_accuracy: 0.9448\n",
            "Epoch 84/100\n",
            "1719/1719 [==============================] - 8s 4ms/step - loss: 0.1095 - accuracy: 0.9524 - val_loss: 0.1459 - val_accuracy: 0.9444\n",
            "Epoch 85/100\n",
            "1719/1719 [==============================] - 7s 4ms/step - loss: 0.1086 - accuracy: 0.9534 - val_loss: 0.1411 - val_accuracy: 0.9420\n",
            "Epoch 86/100\n",
            "1719/1719 [==============================] - 8s 5ms/step - loss: 0.1083 - accuracy: 0.9537 - val_loss: 0.1432 - val_accuracy: 0.9396\n",
            "Epoch 87/100\n",
            "1719/1719 [==============================] - 9s 5ms/step - loss: 0.1074 - accuracy: 0.9541 - val_loss: 0.1490 - val_accuracy: 0.9432\n",
            "Epoch 88/100\n",
            "1719/1719 [==============================] - 8s 4ms/step - loss: 0.1068 - accuracy: 0.9542 - val_loss: 0.1495 - val_accuracy: 0.9380\n",
            "Epoch 89/100\n",
            "1719/1719 [==============================] - 7s 4ms/step - loss: 0.1062 - accuracy: 0.9547 - val_loss: 0.1497 - val_accuracy: 0.9368\n",
            "Epoch 90/100\n",
            "1719/1719 [==============================] - 7s 4ms/step - loss: 0.1058 - accuracy: 0.9547 - val_loss: 0.1454 - val_accuracy: 0.9406\n",
            "Epoch 91/100\n",
            "1711/1719 [============================>.] - ETA: 0s - loss: 0.1050 - accuracy: 0.9553INFO:tensorflow:Assets written to: my_keras_model/assets\n",
            "1719/1719 [==============================] - 8s 4ms/step - loss: 0.1050 - accuracy: 0.9553 - val_loss: 0.1368 - val_accuracy: 0.9466\n",
            "Epoch 92/100\n",
            "1719/1719 [==============================] - 7s 4ms/step - loss: 0.1043 - accuracy: 0.9553 - val_loss: 0.1377 - val_accuracy: 0.9430\n",
            "Epoch 93/100\n",
            "1719/1719 [==============================] - 7s 4ms/step - loss: 0.1040 - accuracy: 0.9555 - val_loss: 0.1391 - val_accuracy: 0.9480\n",
            "Epoch 94/100\n",
            "1719/1719 [==============================] - 7s 4ms/step - loss: 0.1032 - accuracy: 0.9551 - val_loss: 0.1387 - val_accuracy: 0.9458\n",
            "Epoch 95/100\n",
            "1719/1719 [==============================] - 7s 4ms/step - loss: 0.1024 - accuracy: 0.9559 - val_loss: 0.1398 - val_accuracy: 0.9444\n",
            "Epoch 96/100\n",
            "1719/1719 [==============================] - 7s 4ms/step - loss: 0.1022 - accuracy: 0.9561 - val_loss: 0.1410 - val_accuracy: 0.9462\n",
            "Epoch 97/100\n",
            "1719/1719 [==============================] - 7s 4ms/step - loss: 0.1014 - accuracy: 0.9569 - val_loss: 0.1413 - val_accuracy: 0.9436\n",
            "Epoch 98/100\n",
            "1719/1719 [==============================] - 7s 4ms/step - loss: 0.1003 - accuracy: 0.9575 - val_loss: 0.1401 - val_accuracy: 0.9434\n",
            "Epoch 99/100\n",
            "1719/1719 [==============================] - 7s 4ms/step - loss: 0.1002 - accuracy: 0.9572 - val_loss: 0.1375 - val_accuracy: 0.9470\n",
            "Epoch 100/100\n",
            "1719/1719 [==============================] - 7s 4ms/step - loss: 0.0994 - accuracy: 0.9572 - val_loss: 0.1407 - val_accuracy: 0.9434\n"
          ]
        }
      ],
      "source": [
        "model = keras.models.Sequential()\n",
        "model.add(keras.layers.Flatten(input_shape=[28, 28])) # input_shape doesn't include batch dimension (not aware of how many images i have), flatten layer is the input layer, we just take the 28x28 matrix and we turn into a vector of lenght 784\n",
        "model.add(keras.layers.Dense(300, activation=\"relu\"))\n",
        "model.add(keras.layers.Dense(100, activation=\"relu\"))\n",
        "model.add(keras.layers.Dense(1))\n",
        "\n",
        "model.compile(loss=tf.keras.losses.BinaryCrossentropy(from_logits=True),  #This cross entropy works with not hot-encoded lables, from_logits=False if we use a softmax, we will use binary cross entropy with one final node for our task\n",
        "              optimizer=keras.optimizers.SGD(learning_rate= 0.001, momentum = 0.5),  #Stochastic Gradient Descent\n",
        "              metrics=[\"accuracy\"]) #This is monitored but not part of the optimization problem\n",
        "\n",
        "early_stopping_cb = keras.callbacks.EarlyStopping(patience=10, restore_best_weights=True)\n",
        "checkpoint_cb = keras.callbacks.ModelCheckpoint(\"my_keras_model\", save_best_only=True)\n",
        "\n",
        "history = model.fit(X_train, y_train_binary, epochs=100,\n",
        "                    validation_data=(X_valid, y_valid_binary),\n",
        "                    callbacks=[checkpoint_cb, early_stopping_cb])"
      ]
    }
  ],
  "metadata": {
    "colab": {
      "name": "08a_KerasIntro.ipynb",
      "provenance": [],
      "include_colab_link": true
    },
    "kernelspec": {
      "display_name": "Python 3 (ipykernel)",
      "language": "python",
      "name": "python3"
    },
    "language_info": {
      "codemirror_mode": {
        "name": "ipython",
        "version": 3
      },
      "file_extension": ".py",
      "mimetype": "text/x-python",
      "name": "python",
      "nbconvert_exporter": "python",
      "pygments_lexer": "ipython3",
      "version": "3.9.12"
    },
    "nav_menu": {
      "height": "264px",
      "width": "369px"
    },
    "toc": {
      "navigate_menu": true,
      "number_sections": true,
      "sideBar": true,
      "threshold": 6,
      "toc_cell": false,
      "toc_section_display": "block",
      "toc_window_display": false
    }
  },
  "nbformat": 4,
  "nbformat_minor": 0
}