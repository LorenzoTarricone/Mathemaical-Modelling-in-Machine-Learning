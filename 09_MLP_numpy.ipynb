{
  "cells": [
    {
      "cell_type": "markdown",
      "metadata": {
        "id": "view-in-github",
        "colab_type": "text"
      },
      "source": [
        "<a href=\"https://colab.research.google.com/github/LorenzoTarricone/Mathemaical-Modelling-in-Machine-Learning/blob/main/09_MLP_numpy.ipynb\" target=\"_parent\"><img src=\"https://colab.research.google.com/assets/colab-badge.svg\" alt=\"Open In Colab\"/></a>"
      ]
    },
    {
      "cell_type": "markdown",
      "metadata": {
        "tags": [],
        "id": "tbsFZilAlNzG"
      },
      "source": [
        "# Building a Multilayer Perceptron from scratch"
      ]
    },
    {
      "cell_type": "markdown",
      "metadata": {
        "ExecuteTime": {
          "end_time": "2018-05-15T23:16:05.888459-05:00",
          "start_time": "2018-05-15T23:16:04.070039Z"
        },
        "id": "ZN71QnG5lNzL"
      },
      "source": [
        "We will implement a few basic blocks needed to create and train a MLP:\n",
        "\n",
        "- Dense layer - a fully-connected layer, $f(X)=W \\cdot X + \\vec{b}$\n",
        "- ReLU layer (or any other activation function to introduce non-linearity)\n",
        "- Loss function - (crossentropy in case of multi-class classification problem)\n",
        "- Backprop algorithm - a stochastic gradient descent with backpropagated gradients\n",
        "\n",
        "Let's approach them one at a time."
      ]
    },
    {
      "cell_type": "markdown",
      "metadata": {
        "id": "U8xLak_DlNzM"
      },
      "source": [
        "## Imports"
      ]
    },
    {
      "cell_type": "markdown",
      "metadata": {
        "ExecuteTime": {
          "end_time": "2018-06-03T18:29:49.723482-05:00",
          "start_time": "2018-06-03T18:29:49.718413Z"
        },
        "id": "dty34cDllNzN"
      },
      "source": [
        "Let's start by importing some libraires required for creating our neural network."
      ]
    },
    {
      "cell_type": "code",
      "execution_count": null,
      "metadata": {
        "ExecuteTime": {
          "end_time": "2018-06-03T18:30:07.531098-05:00",
          "start_time": "2018-06-03T18:30:07.527088Z"
        },
        "id": "0DBbO2OHlNzN"
      },
      "outputs": [],
      "source": [
        "import numpy as np\n",
        "np.random.seed(42)"
      ]
    },
    {
      "cell_type": "markdown",
      "metadata": {
        "id": "gGDAk8w7lNzS"
      },
      "source": [
        "Every layer will have a forward pass and backpass implementation. Let's create a main class layer which can do a forward pass *.forward()* and Backward pass *.backward().*"
      ]
    },
    {
      "cell_type": "code",
      "execution_count": null,
      "metadata": {
        "ExecuteTime": {
          "end_time": "2018-06-03T19:03:20.951163-05:00",
          "start_time": "2018-06-03T19:03:20.941168Z"
        },
        "id": "9ILIZW8LlNzT"
      },
      "outputs": [],
      "source": [
        "class Layer:\n",
        "    \"\"\"\n",
        "    A building block. Each layer is capable of performing two things:\n",
        "    - Process input to get output:           output = layer.forward(input)\n",
        "    - Propagate gradients through itself:    grad_input = layer.backward(input, grad_output)\n",
        "    Some layers also have learnable parameters which they update during layer.backward.\n",
        "    \"\"\"\n",
        "    \n",
        "    def __init__(self):\n",
        "        pass\n",
        "    \n",
        "    def __call__(self, x):\n",
        "        # We define __call__ for convenience, so that we can use our layer as a function\n",
        "        return self.forward(x)\n",
        "    \n",
        "    def forward(self, x):\n",
        "        \"\"\"\n",
        "        Takes input data of shape [batch, input_units], returns output data [batch, output_units]\n",
        "        \"\"\"\n",
        "        return x\n",
        "\n",
        "    def backward(self, x, grad_output):\n",
        "        \"\"\"\n",
        "        Performs a backpropagation step through the layer, with respect to the given input. \n",
        "        To compute loss gradients w.r.t input, we need to apply chain rule (backprop):\n",
        "        d loss / d x  = (d loss / d layer) * (d layer / d x)\n",
        "        Luckily, we already receive d loss / d layer as input, so you only need to multiply it by d layer / d x.\n",
        "        If our layer has parameters (e.g. dense layer), we also need to update them here using d loss / d layer\n",
        "        \"\"\"\n",
        "        return (grad_output,)"
      ]
    },
    {
      "cell_type": "markdown",
      "metadata": {
        "id": "EI3qQbBFlNzX"
      },
      "source": [
        "### Nonlinearity ReLU layer\n",
        "\n",
        "This is the simplest layer you can get: it simply applies a nonlinearity to each element of your network."
      ]
    },
    {
      "cell_type": "code",
      "execution_count": null,
      "metadata": {
        "ExecuteTime": {
          "end_time": "2018-06-03T19:03:31.531589-05:00",
          "start_time": "2018-06-03T19:03:31.525072Z"
        },
        "id": "qdcXV1XXlNzY"
      },
      "outputs": [],
      "source": [
        "class ReLU(Layer):\n",
        "    def __init__(self):\n",
        "        \"\"\"ReLU layer simply applies elementwise rectified linear unit to all inputs\"\"\"\n",
        "        pass\n",
        "    \n",
        "    def forward(self, x):\n",
        "        \"\"\"Apply elementwise ReLU to [batch, input_units] matrix\"\"\"\n",
        "        relu_forward = np.maximum(0, x)\n",
        "        return relu_forward\n",
        "    \n",
        "    def backward(self, x, grad_output):\n",
        "        \"\"\"Compute gradient of loss w.r.t. ReLU input\"\"\"\n",
        "        relu_grad = x > 0\n",
        "        return (grad_output * relu_grad,)\n",
        "    \n",
        "def test_relu():\n",
        "    batch_size = 16\n",
        "    n_in = 10 \n",
        "    x = np.random.randn(batch_size, n_in)\n",
        "    relu = ReLU()\n",
        "    y = relu(x)\n",
        "    assert y.shape == (16, 10) \n",
        "    assert (y >= 0).all() \n",
        "\n",
        "test_relu()"
      ]
    },
    {
      "cell_type": "markdown",
      "metadata": {
        "id": "suQoDV2IlNzZ"
      },
      "source": [
        "### Dense layer\n",
        "\n",
        "Now let's build something more complicated. Unlike nonlinearity, a dense layer actually has something to learn.\n",
        "\n",
        "A dense layer applies affine transformation. In a vectorized form, it can be described as:\n",
        "$$f(X)= W \\cdot X + \\vec b $$\n",
        "\n",
        "Where \n",
        "* X is an object-feature matrix of shape [batch_size, num_features],\n",
        "* W is a weight matrix [num_features, num_outputs] \n",
        "* and b is a vector of num_outputs biases.\n",
        "\n",
        "Both W and b are initialized during layer creation and updated each time backward is called. We are using **Xavier initialization** : we initialize our weights with mean zero and variance of `2 / (n_in + n_out)`"
      ]
    },
    {
      "cell_type": "code",
      "execution_count": null,
      "metadata": {
        "ExecuteTime": {
          "end_time": "2018-06-03T19:04:12.511355-05:00",
          "start_time": "2018-06-03T19:04:12.492305Z"
        },
        "id": "I_ohYtfBlNza"
      },
      "outputs": [],
      "source": [
        "class Dense(Layer):\n",
        "    \"\"\"\n",
        "    A dense layer is a layer which performs a learned affine transformation:\n",
        "    f(x) = W*x + b\n",
        "    \n",
        "    \n",
        "    input shape: [batch, n_in]\n",
        "    output shape: [batch, n_out units]\n",
        "    \"\"\"\n",
        "    def __init__(self, nin, nout):\n",
        "        self.weights = np.random.normal(loc = 0.0, \n",
        "                                        scale = np.sqrt(2/(nin + nout)), \n",
        "                                        size = (nin, nout))\n",
        "        self.biases = np.zeros(nout)\n",
        "                                        \n",
        "        \n",
        "    def forward(self,x):\n",
        "        return x @ self.weights + self.biases\n",
        "    \n",
        "    def backward(self, x, grad_output):\n",
        "        # compute d f / d x = d f / d dense * d dense / d x\n",
        "        # where d dense/ d x = weights transposed\n",
        "        grad_input = grad_output @ self.weights.T\n",
        "        \n",
        "        # compute gradient w.r.t. weights and biases\n",
        "        grad_weights = x.T @ grad_output\n",
        "        grad_biases = grad_output.sum(axis=0)\n",
        "        \n",
        "        return grad_input, grad_weights, grad_biases\n",
        "    \n",
        "def test_dense():\n",
        "    batch_size = 16\n",
        "    nout = 5 \n",
        "    nin = 3 \n",
        "    x = np.random.randn(batch_size, nin)\n",
        "    dense = Dense(nin, nout)\n",
        "    y = dense(x)\n",
        "    assert y.shape == (batch_size, nout) \n",
        "    \n",
        "    gout = np.random.randn(batch_size, nout)\n",
        "    gx, gw, gb = dense.backward(x, gout)\n",
        "    assert gx.shape == x.shape\n",
        "    assert gw.shape == dense.weights.shape\n",
        "    assert gb.shape == dense.biases.shape\n",
        "\n",
        "test_dense()"
      ]
    },
    {
      "cell_type": "markdown",
      "metadata": {
        "id": "xDGHfwpolNzb"
      },
      "source": [
        "### The loss function\n",
        "\n",
        "Since we want to predict probabilities, it would be logical for us to define softmax nonlinearity on top of our network and compute loss given predicted probabilities. However, there is a better way to do so.\n",
        "\n",
        "If we write down the expression for crossentropy as a function of softmax logits (a), you'll see:\n",
        "\n",
        "$$ loss = - log \\space {e^{a_{correct}} \\over {\\underset i \\sum e^{a_i} } } $$\n",
        "\n",
        "If we take a closer look, we'll see that it can be rewritten as:\n",
        "\n",
        "$$ loss = - a_{correct} + log {\\underset i \\sum e^{a_i} } $$\n",
        "\n",
        "It's called Log-softmax and it's better than naive log(softmax(a)) in all aspects:\n",
        "* Better numerical stability\n",
        "* Easier to get derivative right\n",
        "* Marginally faster to compute\n",
        "\n",
        "So why not just use log-softmax throughout our computation and never actually bother to estimate probabilities."
      ]
    },
    {
      "cell_type": "code",
      "execution_count": null,
      "metadata": {
        "ExecuteTime": {
          "end_time": "2018-06-03T19:04:47.947883-05:00",
          "start_time": "2018-06-03T19:04:47.939333Z"
        },
        "id": "ZVdng-sLlNze"
      },
      "outputs": [],
      "source": [
        "def softmax_crossentropy_with_logits(logits, y):\n",
        "    \"\"\"Compute crossentropy from logits[batch,n_classes] and ids of correct answers\"\"\"\n",
        "    # This is advance indexing with numpy int arrays as indexes\n",
        "    # See https://numpy.org/doc/stable/user/basics.indexing.html#integer-array-indexing\n",
        "    logits_for_answers = logits[np.arange(len(logits)), y]\n",
        "    \n",
        "    xentropy = - logits_for_answers + np.log(np.sum(np.exp(logits), axis=-1))\n",
        "    \n",
        "    return np.mean(xentropy) # mean over the batch\n",
        "\n",
        "def grad_softmax_crossentropy_with_logits(logits, reference_answers):\n",
        "    \"\"\"Compute crossentropy gradient from logits[batch,n_classes] and ids of correct answers\"\"\"\n",
        "    ones_for_answers = np.zeros_like(logits)\n",
        "    ones_for_answers[np.arange(len(logits)), reference_answers] = 1\n",
        "    \n",
        "    softmax = np.exp(logits) / np.exp(logits).sum(axis=-1, keepdims=True)\n",
        "    \n",
        "    return (- ones_for_answers + softmax) / logits.shape[0]"
      ]
    },
    {
      "cell_type": "markdown",
      "metadata": {
        "id": "2vl3oEV5lNzg"
      },
      "source": [
        "### Full network\n",
        "\n",
        "Now let's combine what we've just built into a working neural network. As I have told earlier, we are going to use MNIST data of handwritten digit for our example. Fortunately, Keras already have it in the numpy array format, so let's import it!."
      ]
    },
    {
      "cell_type": "code",
      "execution_count": null,
      "metadata": {
        "ExecuteTime": {
          "end_time": "2018-06-03T18:44:01.717629-05:00",
          "start_time": "2018-06-03T18:43:20.450314Z"
        },
        "id": "GHPLzQbmlNzm",
        "outputId": "748ea9ba-1844-4646-e969-75d684f306aa"
      },
      "outputs": [
        {
          "data": {
            "image/png": "[encoded data removed]",
            "text/plain": [
              "<Figure size 432x432 with 4 Axes>"
            ]
          },
          "metadata": {
            "needs_background": "light"
          },
          "output_type": "display_data"
        }
      ],
      "source": [
        "import keras\n",
        "import matplotlib.pyplot as plt\n",
        "%matplotlib inline\n",
        "\n",
        "def load_dataset(flatten=False):\n",
        "    (X_train, y_train), (X_test, y_test) = keras.datasets.mnist.load_data()\n",
        "\n",
        "    # normalize x\n",
        "    X_train = X_train.astype(float) / 255.\n",
        "    X_test = X_test.astype(float) / 255.\n",
        "\n",
        "    # we reserve the last 10000 training examples for validation\n",
        "    X_train, X_val = X_train[:-10000], X_train[-10000:]\n",
        "    y_train, y_val = y_train[:-10000], y_train[-10000:]\n",
        "\n",
        "    if flatten:\n",
        "        X_train = X_train.reshape([X_train.shape[0], -1])\n",
        "        X_val = X_val.reshape([X_val.shape[0], -1])\n",
        "        X_test = X_test.reshape([X_test.shape[0], -1])\n",
        "\n",
        "    return X_train, y_train, X_val, y_val, X_test, y_test\n",
        "\n",
        "X_train, y_train, X_val, y_val, X_test, y_test = load_dataset(flatten=True)\n",
        "\n",
        "## Let's look at some example\n",
        "plt.figure(figsize=[6,6])\n",
        "for i in range(4):\n",
        "    plt.subplot(2,2,i+1)\n",
        "    plt.title(\"Label: %i\"%y_train[i])\n",
        "    plt.imshow(X_train[i].reshape(28, 28), cmap='gray');"
      ]
    },
    {
      "cell_type": "markdown",
      "metadata": {
        "id": "XZOIOETllNzp"
      },
      "source": [
        "We'll define network as a list of layers, each applied on top of previous one. In this setting, computing predictions and training becomes trivial."
      ]
    },
    {
      "cell_type": "code",
      "execution_count": null,
      "metadata": {
        "ExecuteTime": {
          "end_time": "2018-06-03T18:44:01.727147-05:00",
          "start_time": "2018-06-03T18:44:01.719126Z"
        },
        "id": "M7dJJSUSlNzq"
      },
      "outputs": [],
      "source": [
        "class MLP:\n",
        "    def __init__(self, nin=28*28, nhidden=100, nout=10):\n",
        "        layers = []\n",
        "        layers.append(Dense(nin, nhidden))\n",
        "        layers.append(ReLU())\n",
        "        layers.append(Dense(nhidden, nhidden))\n",
        "        layers.append(ReLU())\n",
        "        layers.append(Dense(nhidden, nout))\n",
        "        self.layers = layers\n",
        "        self.activations = None\n",
        "\n",
        "    def forward(self, X):\n",
        "        \"\"\"\n",
        "        Compute activations of all network layers by applying them sequentially.\n",
        "        Return a list of activations for each layer. \n",
        "        \"\"\"\n",
        "        self.activations = [X]\n",
        "        # Looping through each layer\n",
        "        for l in self.layers:\n",
        "            X = l(X)\n",
        "            self.activations.append(X)\n",
        "        return X\n",
        "            \n",
        "    def __len__(self):\n",
        "        return len(self.layers)\n",
        "\n",
        "    def __getitem__(self, i):\n",
        "        return self.layers[i]\n",
        "\n",
        "    def predict(self, X):\n",
        "        \"\"\"\n",
        "        Compute network predictions. Returning indices of largest Logit probability\n",
        "        \"\"\"\n",
        "        logits = self.forward(X)\n",
        "        return logits.argmax(axis=-1)\n",
        "\n",
        "    def train(self, X, y, learning_rate=0.1):\n",
        "        \"\"\"\n",
        "        Train our network on a given batch of X and y.\n",
        "        We first need to run forward to get all layer activations.\n",
        "        Then we can run layer.backward going from last to first layer.\n",
        "        Going back, use the returned gradients to update the layer's weights and biases with a GD step.\n",
        "        \"\"\"\n",
        "\n",
        "        # Get the layer activations\n",
        "        logits = self.forward(X)\n",
        "        activations = self.activations\n",
        "        \n",
        "        # Compute the loss and the initial gradient\n",
        "        loss = softmax_crossentropy_with_logits(logits, y)\n",
        "        input_grad = grad_softmax_crossentropy_with_logits(logits, y)\n",
        "\n",
        "        # Propagate gradients through the self\n",
        "        # Reverse propogation as this is backprop\n",
        "        for layer_index in range(len(self.layers))[::-1]:\n",
        "            layer = self.layers[layer_index]\n",
        "            output_grad = input_grad\n",
        "            res_back = layer.backward(activations[layer_index], input_grad) #grad w.r.t. input, also weight updates\n",
        "            input_grad = res_back[0]\n",
        "            if len(res_back) > 1:\n",
        "                gW, gb = res_back[1], res_back[2]\n",
        "                # # Here we perform a gradient descent step. \n",
        "                layer.weights = layer.weights - learning_rate * gW\n",
        "                layer.biases = layer.biases - learning_rate * gb\n",
        "\n",
        "        return loss\n"
      ]
    },
    {
      "cell_type": "markdown",
      "metadata": {
        "id": "WTdZMoEolNzr"
      },
      "source": [
        "### Training loop\n",
        "\n",
        "We split data into minibatches, feed each such minibatch into the network and update weights. This training method is called a mini-batch stochastic gradient descent."
      ]
    },
    {
      "cell_type": "code",
      "execution_count": null,
      "metadata": {
        "ExecuteTime": {
          "end_time": "2018-06-03T18:47:45.846651-05:00",
          "start_time": "2018-06-03T18:47:45.316719Z"
        },
        "id": "9cmX68UJlNzs"
      },
      "outputs": [],
      "source": [
        "from tqdm import trange\n",
        "\n",
        "def iterate_minibatches(inputs, targets, batchsize, shuffle=False):\n",
        "    assert len(inputs) == len(targets)\n",
        "    if shuffle:\n",
        "        indices = np.random.permutation(len(inputs))\n",
        "    else:\n",
        "        indices = np.arange(len(inputs))\n",
        "    for start_idx in trange(0, len(inputs) - batchsize + 1, batchsize):\n",
        "        idxs = indices[start_idx:start_idx + batchsize]\n",
        "        yield inputs[idxs], targets[idxs]"
      ]
    },
    {
      "cell_type": "code",
      "execution_count": null,
      "metadata": {
        "ExecuteTime": {
          "end_time": "2018-06-03T18:49:20.383230-05:00",
          "start_time": "2018-06-03T18:47:53.604185Z"
        },
        "id": "wy5N7fAllNzs",
        "outputId": "f9913348-4dc9-4ab0-cd51-6e4a8a8fa547"
      },
      "outputs": [
        {
          "name": "stdout",
          "output_type": "stream",
          "text": [
            "Epoch 9\n",
            "Train accuracy: 0.99474\n",
            "Val accuracy: 0.9747\n"
          ]
        },
        {
          "data": {
            "image/png": "[encoded data removed]",
            "text/plain": [
              "<Figure size 432x288 with 1 Axes>"
            ]
          },
          "metadata": {
            "needs_background": "light"
          },
          "output_type": "display_data"
        }
      ],
      "source": [
        "from IPython.display import clear_output\n",
        "train_log = []\n",
        "val_log = []\n",
        "network = MLP()\n",
        "\n",
        "\n",
        "epochs = 10\n",
        "\n",
        "for epoch in range(epochs):\n",
        "\n",
        "    for x_batch, y_batch in iterate_minibatches(X_train, y_train, batchsize=32, shuffle=True):\n",
        "        network.train(x_batch, y_batch)\n",
        "    \n",
        "    train_log.append(np.mean(network.predict(X_train) == y_train))\n",
        "    val_log.append(np.mean(network.predict(X_val) == y_val))\n",
        "\n",
        "    clear_output()\n",
        "    print(\"Epoch\",epoch)\n",
        "    print(\"Train accuracy:\",train_log[-1])\n",
        "    print(\"Val accuracy:\",val_log[-1])\n",
        "    plt.plot(train_log, label='train accuracy')\n",
        "    plt.plot(val_log, label='val accuracy')\n",
        "    plt.legend(loc='best')\n",
        "    plt.grid()\n",
        "    plt.show()\n",
        "    "
      ]
    },
    {
      "cell_type": "markdown",
      "metadata": {
        "id": "TrutsP26lNzt"
      },
      "source": [
        "As we can see we have successfully trained a MLP which was purely written in numpy with high validation accuracy!"
      ]
    }
  ],
  "metadata": {
    "anaconda-cloud": {},
    "kernelspec": {
      "display_name": "Python 3 (ipykernel)",
      "language": "python",
      "name": "python3"
    },
    "language_info": {
      "codemirror_mode": {
        "name": "ipython",
        "version": 3
      },
      "file_extension": ".py",
      "mimetype": "text/x-python",
      "name": "python",
      "nbconvert_exporter": "python",
      "pygments_lexer": "ipython3",
      "version": "3.9.12"
    },
    "toc": {
      "colors": {
        "hover_highlight": "#DAA520",
        "navigate_num": "#000000",
        "navigate_text": "#333333",
        "running_highlight": "#FF0000",
        "selected_highlight": "#FFD700",
        "sidebar_border": "#EEEEEE",
        "wrapper_background": "#FFFFFF"
      },
      "moveMenuLeft": true,
      "nav_menu": {
        "height": "264px",
        "width": "252px"
      },
      "navigate_menu": true,
      "number_sections": true,
      "sideBar": true,
      "threshold": 4,
      "toc_cell": false,
      "toc_section_display": "block",
      "toc_window_display": false,
      "widenNotebook": false
    },
    "colab": {
      "name": "07_MLP_numpy_full.ipynb",
      "provenance": [],
      "include_colab_link": true
    }
  },
  "nbformat": 4,
  "nbformat_minor": 0
}